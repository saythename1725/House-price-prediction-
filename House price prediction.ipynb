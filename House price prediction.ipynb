{
  "cells": [
    {
      "cell_type": "markdown",
      "metadata": {
        "id": "JnX83M8R855U"
      },
      "source": [
        "## **Part 1: Data Exploration**"
      ]
    },
    {
      "cell_type": "markdown",
      "metadata": {
        "id": "1UY-kP13-GLa"
      },
      "source": [
        "Load the important libraries"
      ]
    },
    {
      "cell_type": "code",
      "execution_count": 3,
      "metadata": {
        "id": "Y3HcoMhS8xVq"
      },
      "outputs": [],
      "source": [
        "import pandas as pd\n",
        "import numpy as np\n",
        "import matplotlib.pyplot as plt\n",
        "import seaborn as sns"
      ]
    },
    {
      "cell_type": "markdown",
      "source": [
        "Read the Dataset"
      ],
      "metadata": {
        "id": "Fh-X668tKkLj"
      }
    },
    {
      "cell_type": "code",
      "execution_count": 4,
      "metadata": {
        "id": "ACM8I3Gh-RFt"
      },
      "outputs": [],
      "source": [
        "df=pd.read_csv(\"/content/train_data.csv\")"
      ]
    },
    {
      "cell_type": "markdown",
      "source": [
        "Read the First 10 rows of the dataset"
      ],
      "metadata": {
        "id": "Nr4onagXKsL4"
      }
    },
    {
      "cell_type": "code",
      "execution_count": 5,
      "metadata": {
        "colab": {
          "base_uri": "https://localhost:8080/",
          "height": 478
        },
        "id": "6L_A9qaY84jo",
        "outputId": "4f343a16-d232-4bb9-b1c9-1eef4fa852d6"
      },
      "outputs": [
        {
          "output_type": "execute_result",
          "data": {
            "text/plain": [
              "  POSTED_BY  UNDER_CONSTRUCTION  RERA  BHK_NO. BHK_OR_RK    SQUARE_FT  \\\n",
              "0     Owner                   0     0        2       BHK  1300.236407   \n",
              "1    Dealer                   0     0        2       BHK  1275.000000   \n",
              "2     Owner                   0     0        2       BHK   933.159722   \n",
              "3     Owner                   0     1        2       BHK   929.921143   \n",
              "4    Dealer                   1     0        2       BHK   999.009247   \n",
              "5     Owner                   0     0        3       BHK  1250.000000   \n",
              "6    Dealer                   0     0        3       BHK  1495.053957   \n",
              "7     Owner                   0     1        3       BHK  1181.012946   \n",
              "8    Dealer                   0     1        2       BHK  1040.000000   \n",
              "9     Owner                   0     1        2       BHK   879.120879   \n",
              "\n",
              "   READY_TO_MOVE  RESALE                      ADDRESS  LONGITUDE   LATITUDE  \\\n",
              "0              1       1        Ksfc Layout,Bangalore  12.969910  77.597960   \n",
              "1              1       1    Vishweshwara Nagar,Mysore  12.274538  76.644605   \n",
              "2              1       1             Jigani,Bangalore  12.778033  77.632191   \n",
              "3              1       1  Sector-1 Vaishali,Ghaziabad  28.642300  77.344500   \n",
              "4              0       1             New Town,Kolkata  22.592200  88.484911   \n",
              "5              1       1         South Chittoor,Kochi  10.033280  76.282571   \n",
              "6              1       1                Sodala,Jaipur  26.916347  75.795600   \n",
              "7              1       1                Kharar,Mohali  30.740000  76.650000   \n",
              "8              1       1        Bileshivale,Bangalore  13.054202  77.674002   \n",
              "9              1       1            Chromepet,Chennai  12.951610  80.140970   \n",
              "\n",
              "   TARGET(PRICE_IN_LACS)  \n",
              "0                   55.0  \n",
              "1                   51.0  \n",
              "2                   43.0  \n",
              "3                   62.5  \n",
              "4                   60.5  \n",
              "5                   42.0  \n",
              "6                   66.5  \n",
              "7                   52.0  \n",
              "8                   41.6  \n",
              "9                   36.0  "
            ],
            "text/html": [
              "\n",
              "  <div id=\"df-702b41fb-e8b7-443d-ad69-a5c27b4b7d8a\">\n",
              "    <div class=\"colab-df-container\">\n",
              "      <div>\n",
              "<style scoped>\n",
              "    .dataframe tbody tr th:only-of-type {\n",
              "        vertical-align: middle;\n",
              "    }\n",
              "\n",
              "    .dataframe tbody tr th {\n",
              "        vertical-align: top;\n",
              "    }\n",
              "\n",
              "    .dataframe thead th {\n",
              "        text-align: right;\n",
              "    }\n",
              "</style>\n",
              "<table border=\"1\" class=\"dataframe\">\n",
              "  <thead>\n",
              "    <tr style=\"text-align: right;\">\n",
              "      <th></th>\n",
              "      <th>POSTED_BY</th>\n",
              "      <th>UNDER_CONSTRUCTION</th>\n",
              "      <th>RERA</th>\n",
              "      <th>BHK_NO.</th>\n",
              "      <th>BHK_OR_RK</th>\n",
              "      <th>SQUARE_FT</th>\n",
              "      <th>READY_TO_MOVE</th>\n",
              "      <th>RESALE</th>\n",
              "      <th>ADDRESS</th>\n",
              "      <th>LONGITUDE</th>\n",
              "      <th>LATITUDE</th>\n",
              "      <th>TARGET(PRICE_IN_LACS)</th>\n",
              "    </tr>\n",
              "  </thead>\n",
              "  <tbody>\n",
              "    <tr>\n",
              "      <th>0</th>\n",
              "      <td>Owner</td>\n",
              "      <td>0</td>\n",
              "      <td>0</td>\n",
              "      <td>2</td>\n",
              "      <td>BHK</td>\n",
              "      <td>1300.236407</td>\n",
              "      <td>1</td>\n",
              "      <td>1</td>\n",
              "      <td>Ksfc Layout,Bangalore</td>\n",
              "      <td>12.969910</td>\n",
              "      <td>77.597960</td>\n",
              "      <td>55.0</td>\n",
              "    </tr>\n",
              "    <tr>\n",
              "      <th>1</th>\n",
              "      <td>Dealer</td>\n",
              "      <td>0</td>\n",
              "      <td>0</td>\n",
              "      <td>2</td>\n",
              "      <td>BHK</td>\n",
              "      <td>1275.000000</td>\n",
              "      <td>1</td>\n",
              "      <td>1</td>\n",
              "      <td>Vishweshwara Nagar,Mysore</td>\n",
              "      <td>12.274538</td>\n",
              "      <td>76.644605</td>\n",
              "      <td>51.0</td>\n",
              "    </tr>\n",
              "    <tr>\n",
              "      <th>2</th>\n",
              "      <td>Owner</td>\n",
              "      <td>0</td>\n",
              "      <td>0</td>\n",
              "      <td>2</td>\n",
              "      <td>BHK</td>\n",
              "      <td>933.159722</td>\n",
              "      <td>1</td>\n",
              "      <td>1</td>\n",
              "      <td>Jigani,Bangalore</td>\n",
              "      <td>12.778033</td>\n",
              "      <td>77.632191</td>\n",
              "      <td>43.0</td>\n",
              "    </tr>\n",
              "    <tr>\n",
              "      <th>3</th>\n",
              "      <td>Owner</td>\n",
              "      <td>0</td>\n",
              "      <td>1</td>\n",
              "      <td>2</td>\n",
              "      <td>BHK</td>\n",
              "      <td>929.921143</td>\n",
              "      <td>1</td>\n",
              "      <td>1</td>\n",
              "      <td>Sector-1 Vaishali,Ghaziabad</td>\n",
              "      <td>28.642300</td>\n",
              "      <td>77.344500</td>\n",
              "      <td>62.5</td>\n",
              "    </tr>\n",
              "    <tr>\n",
              "      <th>4</th>\n",
              "      <td>Dealer</td>\n",
              "      <td>1</td>\n",
              "      <td>0</td>\n",
              "      <td>2</td>\n",
              "      <td>BHK</td>\n",
              "      <td>999.009247</td>\n",
              "      <td>0</td>\n",
              "      <td>1</td>\n",
              "      <td>New Town,Kolkata</td>\n",
              "      <td>22.592200</td>\n",
              "      <td>88.484911</td>\n",
              "      <td>60.5</td>\n",
              "    </tr>\n",
              "    <tr>\n",
              "      <th>5</th>\n",
              "      <td>Owner</td>\n",
              "      <td>0</td>\n",
              "      <td>0</td>\n",
              "      <td>3</td>\n",
              "      <td>BHK</td>\n",
              "      <td>1250.000000</td>\n",
              "      <td>1</td>\n",
              "      <td>1</td>\n",
              "      <td>South Chittoor,Kochi</td>\n",
              "      <td>10.033280</td>\n",
              "      <td>76.282571</td>\n",
              "      <td>42.0</td>\n",
              "    </tr>\n",
              "    <tr>\n",
              "      <th>6</th>\n",
              "      <td>Dealer</td>\n",
              "      <td>0</td>\n",
              "      <td>0</td>\n",
              "      <td>3</td>\n",
              "      <td>BHK</td>\n",
              "      <td>1495.053957</td>\n",
              "      <td>1</td>\n",
              "      <td>1</td>\n",
              "      <td>Sodala,Jaipur</td>\n",
              "      <td>26.916347</td>\n",
              "      <td>75.795600</td>\n",
              "      <td>66.5</td>\n",
              "    </tr>\n",
              "    <tr>\n",
              "      <th>7</th>\n",
              "      <td>Owner</td>\n",
              "      <td>0</td>\n",
              "      <td>1</td>\n",
              "      <td>3</td>\n",
              "      <td>BHK</td>\n",
              "      <td>1181.012946</td>\n",
              "      <td>1</td>\n",
              "      <td>1</td>\n",
              "      <td>Kharar,Mohali</td>\n",
              "      <td>30.740000</td>\n",
              "      <td>76.650000</td>\n",
              "      <td>52.0</td>\n",
              "    </tr>\n",
              "    <tr>\n",
              "      <th>8</th>\n",
              "      <td>Dealer</td>\n",
              "      <td>0</td>\n",
              "      <td>1</td>\n",
              "      <td>2</td>\n",
              "      <td>BHK</td>\n",
              "      <td>1040.000000</td>\n",
              "      <td>1</td>\n",
              "      <td>1</td>\n",
              "      <td>Bileshivale,Bangalore</td>\n",
              "      <td>13.054202</td>\n",
              "      <td>77.674002</td>\n",
              "      <td>41.6</td>\n",
              "    </tr>\n",
              "    <tr>\n",
              "      <th>9</th>\n",
              "      <td>Owner</td>\n",
              "      <td>0</td>\n",
              "      <td>1</td>\n",
              "      <td>2</td>\n",
              "      <td>BHK</td>\n",
              "      <td>879.120879</td>\n",
              "      <td>1</td>\n",
              "      <td>1</td>\n",
              "      <td>Chromepet,Chennai</td>\n",
              "      <td>12.951610</td>\n",
              "      <td>80.140970</td>\n",
              "      <td>36.0</td>\n",
              "    </tr>\n",
              "  </tbody>\n",
              "</table>\n",
              "</div>\n",
              "      <button class=\"colab-df-convert\" onclick=\"convertToInteractive('df-702b41fb-e8b7-443d-ad69-a5c27b4b7d8a')\"\n",
              "              title=\"Convert this dataframe to an interactive table.\"\n",
              "              style=\"display:none;\">\n",
              "        \n",
              "  <svg xmlns=\"http://www.w3.org/2000/svg\" height=\"24px\"viewBox=\"0 0 24 24\"\n",
              "       width=\"24px\">\n",
              "    <path d=\"M0 0h24v24H0V0z\" fill=\"none\"/>\n",
              "    <path d=\"M18.56 5.44l.94 2.06.94-2.06 2.06-.94-2.06-.94-.94-2.06-.94 2.06-2.06.94zm-11 1L8.5 8.5l.94-2.06 2.06-.94-2.06-.94L8.5 2.5l-.94 2.06-2.06.94zm10 10l.94 2.06.94-2.06 2.06-.94-2.06-.94-.94-2.06-.94 2.06-2.06.94z\"/><path d=\"M17.41 7.96l-1.37-1.37c-.4-.4-.92-.59-1.43-.59-.52 0-1.04.2-1.43.59L10.3 9.45l-7.72 7.72c-.78.78-.78 2.05 0 2.83L4 21.41c.39.39.9.59 1.41.59.51 0 1.02-.2 1.41-.59l7.78-7.78 2.81-2.81c.8-.78.8-2.07 0-2.86zM5.41 20L4 18.59l7.72-7.72 1.47 1.35L5.41 20z\"/>\n",
              "  </svg>\n",
              "      </button>\n",
              "      \n",
              "  <style>\n",
              "    .colab-df-container {\n",
              "      display:flex;\n",
              "      flex-wrap:wrap;\n",
              "      gap: 12px;\n",
              "    }\n",
              "\n",
              "    .colab-df-convert {\n",
              "      background-color: #E8F0FE;\n",
              "      border: none;\n",
              "      border-radius: 50%;\n",
              "      cursor: pointer;\n",
              "      display: none;\n",
              "      fill: #1967D2;\n",
              "      height: 32px;\n",
              "      padding: 0 0 0 0;\n",
              "      width: 32px;\n",
              "    }\n",
              "\n",
              "    .colab-df-convert:hover {\n",
              "      background-color: #E2EBFA;\n",
              "      box-shadow: 0px 1px 2px rgba(60, 64, 67, 0.3), 0px 1px 3px 1px rgba(60, 64, 67, 0.15);\n",
              "      fill: #174EA6;\n",
              "    }\n",
              "\n",
              "    [theme=dark] .colab-df-convert {\n",
              "      background-color: #3B4455;\n",
              "      fill: #D2E3FC;\n",
              "    }\n",
              "\n",
              "    [theme=dark] .colab-df-convert:hover {\n",
              "      background-color: #434B5C;\n",
              "      box-shadow: 0px 1px 3px 1px rgba(0, 0, 0, 0.15);\n",
              "      filter: drop-shadow(0px 1px 2px rgba(0, 0, 0, 0.3));\n",
              "      fill: #FFFFFF;\n",
              "    }\n",
              "  </style>\n",
              "\n",
              "      <script>\n",
              "        const buttonEl =\n",
              "          document.querySelector('#df-702b41fb-e8b7-443d-ad69-a5c27b4b7d8a button.colab-df-convert');\n",
              "        buttonEl.style.display =\n",
              "          google.colab.kernel.accessAllowed ? 'block' : 'none';\n",
              "\n",
              "        async function convertToInteractive(key) {\n",
              "          const element = document.querySelector('#df-702b41fb-e8b7-443d-ad69-a5c27b4b7d8a');\n",
              "          const dataTable =\n",
              "            await google.colab.kernel.invokeFunction('convertToInteractive',\n",
              "                                                     [key], {});\n",
              "          if (!dataTable) return;\n",
              "\n",
              "          const docLinkHtml = 'Like what you see? Visit the ' +\n",
              "            '<a target=\"_blank\" href=https://colab.research.google.com/notebooks/data_table.ipynb>data table notebook</a>'\n",
              "            + ' to learn more about interactive tables.';\n",
              "          element.innerHTML = '';\n",
              "          dataTable['output_type'] = 'display_data';\n",
              "          await google.colab.output.renderOutput(dataTable, element);\n",
              "          const docLink = document.createElement('div');\n",
              "          docLink.innerHTML = docLinkHtml;\n",
              "          element.appendChild(docLink);\n",
              "        }\n",
              "      </script>\n",
              "    </div>\n",
              "  </div>\n",
              "  "
            ]
          },
          "metadata": {},
          "execution_count": 5
        }
      ],
      "source": [
        "df.head(10)"
      ]
    },
    {
      "cell_type": "markdown",
      "source": [
        "Check if the dataset has any null values or not"
      ],
      "metadata": {
        "id": "JsYNm6wuKx6B"
      }
    },
    {
      "cell_type": "code",
      "execution_count": 6,
      "metadata": {
        "colab": {
          "base_uri": "https://localhost:8080/"
        },
        "id": "saprHKHO_V9v",
        "outputId": "f76dc97a-6c63-4926-d236-f7497321eee3"
      },
      "outputs": [
        {
          "output_type": "execute_result",
          "data": {
            "text/plain": [
              "POSTED_BY                0\n",
              "UNDER_CONSTRUCTION       0\n",
              "RERA                     0\n",
              "BHK_NO.                  0\n",
              "BHK_OR_RK                0\n",
              "SQUARE_FT                0\n",
              "READY_TO_MOVE            0\n",
              "RESALE                   0\n",
              "ADDRESS                  0\n",
              "LONGITUDE                0\n",
              "LATITUDE                 0\n",
              "TARGET(PRICE_IN_LACS)    0\n",
              "dtype: int64"
            ]
          },
          "metadata": {},
          "execution_count": 6
        }
      ],
      "source": [
        "df.isnull().sum()"
      ]
    },
    {
      "cell_type": "markdown",
      "source": [
        "Find the 5 number summary"
      ],
      "metadata": {
        "id": "K8H09hD0MNA2"
      }
    },
    {
      "cell_type": "code",
      "execution_count": 7,
      "metadata": {
        "colab": {
          "base_uri": "https://localhost:8080/",
          "height": 331
        },
        "id": "mT7Vpr7-_gd0",
        "outputId": "d6364804-a265-4dfa-b281-12222d7ed2fa"
      },
      "outputs": [
        {
          "output_type": "execute_result",
          "data": {
            "text/plain": [
              "                         count          mean           std         min  \\\n",
              "UNDER_CONSTRUCTION     29451.0      0.179756  3.839908e-01    0.000000   \n",
              "RERA                   29451.0      0.317918  4.656753e-01    0.000000   \n",
              "BHK_NO.                29451.0      2.392279  8.790913e-01    1.000000   \n",
              "SQUARE_FT              29451.0  19802.170190  1.901335e+06    3.000000   \n",
              "READY_TO_MOVE          29451.0      0.820244  3.839908e-01    0.000000   \n",
              "RESALE                 29451.0      0.929578  2.558613e-01    0.000000   \n",
              "LONGITUDE              29451.0     21.300255  6.205306e+00  -37.713008   \n",
              "LATITUDE               29451.0     76.837695  1.055775e+01 -121.761248   \n",
              "TARGET(PRICE_IN_LACS)  29451.0    142.898746  6.568807e+02    0.250000   \n",
              "\n",
              "                              25%          50%          75%           max  \n",
              "UNDER_CONSTRUCTION       0.000000     0.000000     0.000000  1.000000e+00  \n",
              "RERA                     0.000000     0.000000     1.000000  1.000000e+00  \n",
              "BHK_NO.                  2.000000     2.000000     3.000000  2.000000e+01  \n",
              "SQUARE_FT              900.021130  1175.056750  1550.688124  2.545455e+08  \n",
              "READY_TO_MOVE            1.000000     1.000000     1.000000  1.000000e+00  \n",
              "RESALE                   1.000000     1.000000     1.000000  1.000000e+00  \n",
              "LONGITUDE               18.452663    20.750000    26.900926  5.991288e+01  \n",
              "LATITUDE                73.798100    77.324137    77.828740  1.529627e+02  \n",
              "TARGET(PRICE_IN_LACS)   38.000000    62.000000   100.000000  3.000000e+04  "
            ],
            "text/html": [
              "\n",
              "  <div id=\"df-01bddbb3-f0b6-4625-9700-e45bfd028a19\">\n",
              "    <div class=\"colab-df-container\">\n",
              "      <div>\n",
              "<style scoped>\n",
              "    .dataframe tbody tr th:only-of-type {\n",
              "        vertical-align: middle;\n",
              "    }\n",
              "\n",
              "    .dataframe tbody tr th {\n",
              "        vertical-align: top;\n",
              "    }\n",
              "\n",
              "    .dataframe thead th {\n",
              "        text-align: right;\n",
              "    }\n",
              "</style>\n",
              "<table border=\"1\" class=\"dataframe\">\n",
              "  <thead>\n",
              "    <tr style=\"text-align: right;\">\n",
              "      <th></th>\n",
              "      <th>count</th>\n",
              "      <th>mean</th>\n",
              "      <th>std</th>\n",
              "      <th>min</th>\n",
              "      <th>25%</th>\n",
              "      <th>50%</th>\n",
              "      <th>75%</th>\n",
              "      <th>max</th>\n",
              "    </tr>\n",
              "  </thead>\n",
              "  <tbody>\n",
              "    <tr>\n",
              "      <th>UNDER_CONSTRUCTION</th>\n",
              "      <td>29451.0</td>\n",
              "      <td>0.179756</td>\n",
              "      <td>3.839908e-01</td>\n",
              "      <td>0.000000</td>\n",
              "      <td>0.000000</td>\n",
              "      <td>0.000000</td>\n",
              "      <td>0.000000</td>\n",
              "      <td>1.000000e+00</td>\n",
              "    </tr>\n",
              "    <tr>\n",
              "      <th>RERA</th>\n",
              "      <td>29451.0</td>\n",
              "      <td>0.317918</td>\n",
              "      <td>4.656753e-01</td>\n",
              "      <td>0.000000</td>\n",
              "      <td>0.000000</td>\n",
              "      <td>0.000000</td>\n",
              "      <td>1.000000</td>\n",
              "      <td>1.000000e+00</td>\n",
              "    </tr>\n",
              "    <tr>\n",
              "      <th>BHK_NO.</th>\n",
              "      <td>29451.0</td>\n",
              "      <td>2.392279</td>\n",
              "      <td>8.790913e-01</td>\n",
              "      <td>1.000000</td>\n",
              "      <td>2.000000</td>\n",
              "      <td>2.000000</td>\n",
              "      <td>3.000000</td>\n",
              "      <td>2.000000e+01</td>\n",
              "    </tr>\n",
              "    <tr>\n",
              "      <th>SQUARE_FT</th>\n",
              "      <td>29451.0</td>\n",
              "      <td>19802.170190</td>\n",
              "      <td>1.901335e+06</td>\n",
              "      <td>3.000000</td>\n",
              "      <td>900.021130</td>\n",
              "      <td>1175.056750</td>\n",
              "      <td>1550.688124</td>\n",
              "      <td>2.545455e+08</td>\n",
              "    </tr>\n",
              "    <tr>\n",
              "      <th>READY_TO_MOVE</th>\n",
              "      <td>29451.0</td>\n",
              "      <td>0.820244</td>\n",
              "      <td>3.839908e-01</td>\n",
              "      <td>0.000000</td>\n",
              "      <td>1.000000</td>\n",
              "      <td>1.000000</td>\n",
              "      <td>1.000000</td>\n",
              "      <td>1.000000e+00</td>\n",
              "    </tr>\n",
              "    <tr>\n",
              "      <th>RESALE</th>\n",
              "      <td>29451.0</td>\n",
              "      <td>0.929578</td>\n",
              "      <td>2.558613e-01</td>\n",
              "      <td>0.000000</td>\n",
              "      <td>1.000000</td>\n",
              "      <td>1.000000</td>\n",
              "      <td>1.000000</td>\n",
              "      <td>1.000000e+00</td>\n",
              "    </tr>\n",
              "    <tr>\n",
              "      <th>LONGITUDE</th>\n",
              "      <td>29451.0</td>\n",
              "      <td>21.300255</td>\n",
              "      <td>6.205306e+00</td>\n",
              "      <td>-37.713008</td>\n",
              "      <td>18.452663</td>\n",
              "      <td>20.750000</td>\n",
              "      <td>26.900926</td>\n",
              "      <td>5.991288e+01</td>\n",
              "    </tr>\n",
              "    <tr>\n",
              "      <th>LATITUDE</th>\n",
              "      <td>29451.0</td>\n",
              "      <td>76.837695</td>\n",
              "      <td>1.055775e+01</td>\n",
              "      <td>-121.761248</td>\n",
              "      <td>73.798100</td>\n",
              "      <td>77.324137</td>\n",
              "      <td>77.828740</td>\n",
              "      <td>1.529627e+02</td>\n",
              "    </tr>\n",
              "    <tr>\n",
              "      <th>TARGET(PRICE_IN_LACS)</th>\n",
              "      <td>29451.0</td>\n",
              "      <td>142.898746</td>\n",
              "      <td>6.568807e+02</td>\n",
              "      <td>0.250000</td>\n",
              "      <td>38.000000</td>\n",
              "      <td>62.000000</td>\n",
              "      <td>100.000000</td>\n",
              "      <td>3.000000e+04</td>\n",
              "    </tr>\n",
              "  </tbody>\n",
              "</table>\n",
              "</div>\n",
              "      <button class=\"colab-df-convert\" onclick=\"convertToInteractive('df-01bddbb3-f0b6-4625-9700-e45bfd028a19')\"\n",
              "              title=\"Convert this dataframe to an interactive table.\"\n",
              "              style=\"display:none;\">\n",
              "        \n",
              "  <svg xmlns=\"http://www.w3.org/2000/svg\" height=\"24px\"viewBox=\"0 0 24 24\"\n",
              "       width=\"24px\">\n",
              "    <path d=\"M0 0h24v24H0V0z\" fill=\"none\"/>\n",
              "    <path d=\"M18.56 5.44l.94 2.06.94-2.06 2.06-.94-2.06-.94-.94-2.06-.94 2.06-2.06.94zm-11 1L8.5 8.5l.94-2.06 2.06-.94-2.06-.94L8.5 2.5l-.94 2.06-2.06.94zm10 10l.94 2.06.94-2.06 2.06-.94-2.06-.94-.94-2.06-.94 2.06-2.06.94z\"/><path d=\"M17.41 7.96l-1.37-1.37c-.4-.4-.92-.59-1.43-.59-.52 0-1.04.2-1.43.59L10.3 9.45l-7.72 7.72c-.78.78-.78 2.05 0 2.83L4 21.41c.39.39.9.59 1.41.59.51 0 1.02-.2 1.41-.59l7.78-7.78 2.81-2.81c.8-.78.8-2.07 0-2.86zM5.41 20L4 18.59l7.72-7.72 1.47 1.35L5.41 20z\"/>\n",
              "  </svg>\n",
              "      </button>\n",
              "      \n",
              "  <style>\n",
              "    .colab-df-container {\n",
              "      display:flex;\n",
              "      flex-wrap:wrap;\n",
              "      gap: 12px;\n",
              "    }\n",
              "\n",
              "    .colab-df-convert {\n",
              "      background-color: #E8F0FE;\n",
              "      border: none;\n",
              "      border-radius: 50%;\n",
              "      cursor: pointer;\n",
              "      display: none;\n",
              "      fill: #1967D2;\n",
              "      height: 32px;\n",
              "      padding: 0 0 0 0;\n",
              "      width: 32px;\n",
              "    }\n",
              "\n",
              "    .colab-df-convert:hover {\n",
              "      background-color: #E2EBFA;\n",
              "      box-shadow: 0px 1px 2px rgba(60, 64, 67, 0.3), 0px 1px 3px 1px rgba(60, 64, 67, 0.15);\n",
              "      fill: #174EA6;\n",
              "    }\n",
              "\n",
              "    [theme=dark] .colab-df-convert {\n",
              "      background-color: #3B4455;\n",
              "      fill: #D2E3FC;\n",
              "    }\n",
              "\n",
              "    [theme=dark] .colab-df-convert:hover {\n",
              "      background-color: #434B5C;\n",
              "      box-shadow: 0px 1px 3px 1px rgba(0, 0, 0, 0.15);\n",
              "      filter: drop-shadow(0px 1px 2px rgba(0, 0, 0, 0.3));\n",
              "      fill: #FFFFFF;\n",
              "    }\n",
              "  </style>\n",
              "\n",
              "      <script>\n",
              "        const buttonEl =\n",
              "          document.querySelector('#df-01bddbb3-f0b6-4625-9700-e45bfd028a19 button.colab-df-convert');\n",
              "        buttonEl.style.display =\n",
              "          google.colab.kernel.accessAllowed ? 'block' : 'none';\n",
              "\n",
              "        async function convertToInteractive(key) {\n",
              "          const element = document.querySelector('#df-01bddbb3-f0b6-4625-9700-e45bfd028a19');\n",
              "          const dataTable =\n",
              "            await google.colab.kernel.invokeFunction('convertToInteractive',\n",
              "                                                     [key], {});\n",
              "          if (!dataTable) return;\n",
              "\n",
              "          const docLinkHtml = 'Like what you see? Visit the ' +\n",
              "            '<a target=\"_blank\" href=https://colab.research.google.com/notebooks/data_table.ipynb>data table notebook</a>'\n",
              "            + ' to learn more about interactive tables.';\n",
              "          element.innerHTML = '';\n",
              "          dataTable['output_type'] = 'display_data';\n",
              "          await google.colab.output.renderOutput(dataTable, element);\n",
              "          const docLink = document.createElement('div');\n",
              "          docLink.innerHTML = docLinkHtml;\n",
              "          element.appendChild(docLink);\n",
              "        }\n",
              "      </script>\n",
              "    </div>\n",
              "  </div>\n",
              "  "
            ]
          },
          "metadata": {},
          "execution_count": 7
        }
      ],
      "source": [
        "df.describe().T"
      ]
    },
    {
      "cell_type": "markdown",
      "source": [
        "Now we split the address column entries in order to separate "
      ],
      "metadata": {
        "id": "zsCPVcWhMRhv"
      }
    },
    {
      "cell_type": "code",
      "execution_count": 8,
      "metadata": {
        "colab": {
          "base_uri": "https://localhost:8080/"
        },
        "id": "YCm5byqB_gSb",
        "outputId": "ee586187-e2da-4809-cce1-2be30841b2c7"
      },
      "outputs": [
        {
          "output_type": "execute_result",
          "data": {
            "text/plain": [
              "0                    [Ksfc Layout, Bangalore]\n",
              "1                [Vishweshwara Nagar, Mysore]\n",
              "2                         [Jigani, Bangalore]\n",
              "3              [Sector-1 Vaishali, Ghaziabad]\n",
              "4                         [New Town, Kolkata]\n",
              "                         ...                 \n",
              "29446                 [Shamshabad Road, Agra]\n",
              "29447    [E3-108,  Lake View Recidency, Vapi]\n",
              "29448                    [Ajmer Road, Jaipur]\n",
              "29449               [Sholinganallur, Chennai]\n",
              "29450                     [Jagatpura, Jaipur]\n",
              "Name: ADDRESS, Length: 29451, dtype: object"
            ]
          },
          "metadata": {},
          "execution_count": 8
        }
      ],
      "source": [
        "df['ADDRESS'].str.split(\",\")"
      ]
    },
    {
      "cell_type": "markdown",
      "source": [
        "we extract the cities from the address column and define a new column which stored these cities"
      ],
      "metadata": {
        "id": "aT70MKusNX8q"
      }
    },
    {
      "cell_type": "code",
      "execution_count": 9,
      "metadata": {
        "id": "iaM5j1Z-_nA4"
      },
      "outputs": [],
      "source": [
        "df['CITY']=df['ADDRESS'].str.split(\",\").str.get(1)"
      ]
    },
    {
      "cell_type": "markdown",
      "source": [
        "we make three new empty lists for Tier 1, Tier 2, Tier 3 cities"
      ],
      "metadata": {
        "id": "Hl0434iTNsKa"
      }
    },
    {
      "cell_type": "code",
      "execution_count": 10,
      "metadata": {
        "id": "r-v06tFH_t25"
      },
      "outputs": [],
      "source": [
        "df['TIER1']=\"\"\n",
        "df['TIER2']=\"\"\n",
        "df['TIER3']=\"\""
      ]
    },
    {
      "cell_type": "markdown",
      "source": [
        "we create two lists containing the Tier 1 and Tier 2 cities"
      ],
      "metadata": {
        "id": "hs0HQyfNN_xx"
      }
    },
    {
      "cell_type": "code",
      "execution_count": 11,
      "metadata": {
        "id": "6PLHSfFy_22A"
      },
      "outputs": [],
      "source": [
        "tier1 = [\"Ahmedabad\", \"Bangalore\", \"Chennai\", \"Delhi\", \"Hyderabad\", \"Kolkata\", \"Mumbai\", \"Pune\"]\n",
        "tier2=['Agra', 'Ajmer', 'Aligarh','Amravati','Amritsar','Asansol','Aurangabad','Bareilly','Belgaum','Bhavnagar','Bhiwandi','Bhopal','Bhubaneswar','Bikaner','Bilaspur','Bokaro Steel City','Chandigarh','Coimbatore','Cuttack','Dehradun','Dhanbad','Bhilai','Durgapur','Erode','Faridabad','Firozabad','Ghaziabad','Gorakhpur','Gulbarga','Guntur','Gwalior','Gurugram','Guwahati','Hamirpur','Hubli–Dharwad','Indore','Jabalpur','Jaipur','Jalandhar','Jalgaon','Jammu','Jamnagar','Jamshedpur','Jhansi','Jodhpur','Kakinada','Kannur','Kanpur','Karnal','Kochi','Kolhapur','Kollam','Kozhikode','Kurnool','Ludhiana','Lucknow','Madurai','Malappuram','Mathura','Mangalore','Meerut','Moradabad','Mysore','Nagpur','Nanded','Nashik','Nellore','Noida','Patna','Puducherry','Purulia','Prayagraj','Raipur','Rajkot','Rajamahendravaram','Ranchi','Rourkela','Ratlam','Salem','Sangli','Shimla','Siliguri','Solapur','Srinagar','Surat','Thanjavur','Thiruvananthapuram','Thrissur','Tiruchirappalli','Tirunelveli','Tiruvannamalai','Ujjain','Vijayapura','Vadodara','Varanasi','Vasai-Virar City','Vijayawada','Visakhapatnam','Vellore' ,'Warangal']"
      ]
    },
    {
      "cell_type": "markdown",
      "source": [
        "we define a function mapping_tier1 which returns 1 if the city is present in the list tier1 and 0 if not in tier1"
      ],
      "metadata": {
        "id": "DPYFcx0KONQj"
      }
    },
    {
      "cell_type": "code",
      "execution_count": 12,
      "metadata": {
        "id": "wAxQ31O2_8eD"
      },
      "outputs": [],
      "source": [
        "def mapping_tier1(city):\n",
        "\n",
        "    if city in tier1:\n",
        "        return 1    \n",
        "    else:\n",
        "        return 0\n",
        "\n",
        "df['TIER1'] = df['CITY'].apply(mapping_tier1)"
      ]
    },
    {
      "cell_type": "markdown",
      "source": [
        "we define a function mapping_tier2 which returns 1 if the city is present in the list tier2 and 0 if not in tier2"
      ],
      "metadata": {
        "id": "teJtWC19O98e"
      }
    },
    {
      "cell_type": "code",
      "execution_count": 13,
      "metadata": {
        "id": "4K2Yxs-2ALI6"
      },
      "outputs": [],
      "source": [
        "def mapping_tier2(city):\n",
        "\n",
        "    if city in tier2:\n",
        "        return 1    \n",
        "    else:\n",
        "        return 0\n",
        "\n",
        "df['TIER2'] = df['CITY'].apply(mapping_tier2)"
      ]
    },
    {
      "cell_type": "markdown",
      "source": [
        "If the city is not present in both tier1 and tier2 then we return 1 in tier3 which is defined using the function mapping_tier3"
      ],
      "metadata": {
        "id": "-4RGIuzuPFPj"
      }
    },
    {
      "cell_type": "code",
      "execution_count": 14,
      "metadata": {
        "id": "Drc_7kbLAQ2O"
      },
      "outputs": [],
      "source": [
        "def mapping_tier3(city):\n",
        "\n",
        "    if city in tier1:\n",
        "        return 0\n",
        "    elif city in tier2:\n",
        "        return 0    \n",
        "    else:\n",
        "        return 1\n",
        "\n",
        "df['TIER3'] = df['CITY'].apply(mapping_tier3)"
      ]
    },
    {
      "cell_type": "markdown",
      "source": [
        "since we have extracted tier 1, tier 2 and tier 3 cities, we drop the address and cities columns"
      ],
      "metadata": {
        "id": "KHeuCdGfPck5"
      }
    },
    {
      "cell_type": "code",
      "execution_count": 15,
      "metadata": {
        "colab": {
          "base_uri": "https://localhost:8080/",
          "height": 487
        },
        "id": "Pa6R2yavApQZ",
        "outputId": "c1ab7e25-537d-4f6d-c80d-6c15842f0af3"
      },
      "outputs": [
        {
          "output_type": "execute_result",
          "data": {
            "text/plain": [
              "      POSTED_BY  UNDER_CONSTRUCTION  RERA  BHK_NO. BHK_OR_RK    SQUARE_FT  \\\n",
              "0         Owner                   0     0        2       BHK  1300.236407   \n",
              "1        Dealer                   0     0        2       BHK  1275.000000   \n",
              "2         Owner                   0     0        2       BHK   933.159722   \n",
              "3         Owner                   0     1        2       BHK   929.921143   \n",
              "4        Dealer                   1     0        2       BHK   999.009247   \n",
              "...         ...                 ...   ...      ...       ...          ...   \n",
              "29446     Owner                   0     0        3       BHK  2500.000000   \n",
              "29447     Owner                   0     0        2       BHK   769.230769   \n",
              "29448    Dealer                   0     0        2       BHK  1022.641509   \n",
              "29449     Owner                   0     0        2       BHK   927.079009   \n",
              "29450    Dealer                   0     1        2       BHK   896.774194   \n",
              "\n",
              "       READY_TO_MOVE  RESALE  LONGITUDE   LATITUDE  TARGET(PRICE_IN_LACS)  \\\n",
              "0                  1       1  12.969910  77.597960                   55.0   \n",
              "1                  1       1  12.274538  76.644605                   51.0   \n",
              "2                  1       1  12.778033  77.632191                   43.0   \n",
              "3                  1       1  28.642300  77.344500                   62.5   \n",
              "4                  0       1  22.592200  88.484911                   60.5   \n",
              "...              ...     ...        ...        ...                    ...   \n",
              "29446              1       1  27.140626  78.043277                   45.0   \n",
              "29447              1       1  39.945409 -86.150721                   16.0   \n",
              "29448              1       1  26.928785  75.828002                   27.1   \n",
              "29449              1       1  12.900150  80.227910                   67.0   \n",
              "29450              1       1  26.832353  75.841749                   27.8   \n",
              "\n",
              "       TIER1  TIER2  TIER3  \n",
              "0          1      0      0  \n",
              "1          0      1      0  \n",
              "2          1      0      0  \n",
              "3          0      1      0  \n",
              "4          1      0      0  \n",
              "...      ...    ...    ...  \n",
              "29446      0      1      0  \n",
              "29447      0      0      1  \n",
              "29448      0      1      0  \n",
              "29449      1      0      0  \n",
              "29450      0      1      0  \n",
              "\n",
              "[29451 rows x 14 columns]"
            ],
            "text/html": [
              "\n",
              "  <div id=\"df-a8f5b607-9c6e-4690-84b7-dd2ddb088f66\">\n",
              "    <div class=\"colab-df-container\">\n",
              "      <div>\n",
              "<style scoped>\n",
              "    .dataframe tbody tr th:only-of-type {\n",
              "        vertical-align: middle;\n",
              "    }\n",
              "\n",
              "    .dataframe tbody tr th {\n",
              "        vertical-align: top;\n",
              "    }\n",
              "\n",
              "    .dataframe thead th {\n",
              "        text-align: right;\n",
              "    }\n",
              "</style>\n",
              "<table border=\"1\" class=\"dataframe\">\n",
              "  <thead>\n",
              "    <tr style=\"text-align: right;\">\n",
              "      <th></th>\n",
              "      <th>POSTED_BY</th>\n",
              "      <th>UNDER_CONSTRUCTION</th>\n",
              "      <th>RERA</th>\n",
              "      <th>BHK_NO.</th>\n",
              "      <th>BHK_OR_RK</th>\n",
              "      <th>SQUARE_FT</th>\n",
              "      <th>READY_TO_MOVE</th>\n",
              "      <th>RESALE</th>\n",
              "      <th>LONGITUDE</th>\n",
              "      <th>LATITUDE</th>\n",
              "      <th>TARGET(PRICE_IN_LACS)</th>\n",
              "      <th>TIER1</th>\n",
              "      <th>TIER2</th>\n",
              "      <th>TIER3</th>\n",
              "    </tr>\n",
              "  </thead>\n",
              "  <tbody>\n",
              "    <tr>\n",
              "      <th>0</th>\n",
              "      <td>Owner</td>\n",
              "      <td>0</td>\n",
              "      <td>0</td>\n",
              "      <td>2</td>\n",
              "      <td>BHK</td>\n",
              "      <td>1300.236407</td>\n",
              "      <td>1</td>\n",
              "      <td>1</td>\n",
              "      <td>12.969910</td>\n",
              "      <td>77.597960</td>\n",
              "      <td>55.0</td>\n",
              "      <td>1</td>\n",
              "      <td>0</td>\n",
              "      <td>0</td>\n",
              "    </tr>\n",
              "    <tr>\n",
              "      <th>1</th>\n",
              "      <td>Dealer</td>\n",
              "      <td>0</td>\n",
              "      <td>0</td>\n",
              "      <td>2</td>\n",
              "      <td>BHK</td>\n",
              "      <td>1275.000000</td>\n",
              "      <td>1</td>\n",
              "      <td>1</td>\n",
              "      <td>12.274538</td>\n",
              "      <td>76.644605</td>\n",
              "      <td>51.0</td>\n",
              "      <td>0</td>\n",
              "      <td>1</td>\n",
              "      <td>0</td>\n",
              "    </tr>\n",
              "    <tr>\n",
              "      <th>2</th>\n",
              "      <td>Owner</td>\n",
              "      <td>0</td>\n",
              "      <td>0</td>\n",
              "      <td>2</td>\n",
              "      <td>BHK</td>\n",
              "      <td>933.159722</td>\n",
              "      <td>1</td>\n",
              "      <td>1</td>\n",
              "      <td>12.778033</td>\n",
              "      <td>77.632191</td>\n",
              "      <td>43.0</td>\n",
              "      <td>1</td>\n",
              "      <td>0</td>\n",
              "      <td>0</td>\n",
              "    </tr>\n",
              "    <tr>\n",
              "      <th>3</th>\n",
              "      <td>Owner</td>\n",
              "      <td>0</td>\n",
              "      <td>1</td>\n",
              "      <td>2</td>\n",
              "      <td>BHK</td>\n",
              "      <td>929.921143</td>\n",
              "      <td>1</td>\n",
              "      <td>1</td>\n",
              "      <td>28.642300</td>\n",
              "      <td>77.344500</td>\n",
              "      <td>62.5</td>\n",
              "      <td>0</td>\n",
              "      <td>1</td>\n",
              "      <td>0</td>\n",
              "    </tr>\n",
              "    <tr>\n",
              "      <th>4</th>\n",
              "      <td>Dealer</td>\n",
              "      <td>1</td>\n",
              "      <td>0</td>\n",
              "      <td>2</td>\n",
              "      <td>BHK</td>\n",
              "      <td>999.009247</td>\n",
              "      <td>0</td>\n",
              "      <td>1</td>\n",
              "      <td>22.592200</td>\n",
              "      <td>88.484911</td>\n",
              "      <td>60.5</td>\n",
              "      <td>1</td>\n",
              "      <td>0</td>\n",
              "      <td>0</td>\n",
              "    </tr>\n",
              "    <tr>\n",
              "      <th>...</th>\n",
              "      <td>...</td>\n",
              "      <td>...</td>\n",
              "      <td>...</td>\n",
              "      <td>...</td>\n",
              "      <td>...</td>\n",
              "      <td>...</td>\n",
              "      <td>...</td>\n",
              "      <td>...</td>\n",
              "      <td>...</td>\n",
              "      <td>...</td>\n",
              "      <td>...</td>\n",
              "      <td>...</td>\n",
              "      <td>...</td>\n",
              "      <td>...</td>\n",
              "    </tr>\n",
              "    <tr>\n",
              "      <th>29446</th>\n",
              "      <td>Owner</td>\n",
              "      <td>0</td>\n",
              "      <td>0</td>\n",
              "      <td>3</td>\n",
              "      <td>BHK</td>\n",
              "      <td>2500.000000</td>\n",
              "      <td>1</td>\n",
              "      <td>1</td>\n",
              "      <td>27.140626</td>\n",
              "      <td>78.043277</td>\n",
              "      <td>45.0</td>\n",
              "      <td>0</td>\n",
              "      <td>1</td>\n",
              "      <td>0</td>\n",
              "    </tr>\n",
              "    <tr>\n",
              "      <th>29447</th>\n",
              "      <td>Owner</td>\n",
              "      <td>0</td>\n",
              "      <td>0</td>\n",
              "      <td>2</td>\n",
              "      <td>BHK</td>\n",
              "      <td>769.230769</td>\n",
              "      <td>1</td>\n",
              "      <td>1</td>\n",
              "      <td>39.945409</td>\n",
              "      <td>-86.150721</td>\n",
              "      <td>16.0</td>\n",
              "      <td>0</td>\n",
              "      <td>0</td>\n",
              "      <td>1</td>\n",
              "    </tr>\n",
              "    <tr>\n",
              "      <th>29448</th>\n",
              "      <td>Dealer</td>\n",
              "      <td>0</td>\n",
              "      <td>0</td>\n",
              "      <td>2</td>\n",
              "      <td>BHK</td>\n",
              "      <td>1022.641509</td>\n",
              "      <td>1</td>\n",
              "      <td>1</td>\n",
              "      <td>26.928785</td>\n",
              "      <td>75.828002</td>\n",
              "      <td>27.1</td>\n",
              "      <td>0</td>\n",
              "      <td>1</td>\n",
              "      <td>0</td>\n",
              "    </tr>\n",
              "    <tr>\n",
              "      <th>29449</th>\n",
              "      <td>Owner</td>\n",
              "      <td>0</td>\n",
              "      <td>0</td>\n",
              "      <td>2</td>\n",
              "      <td>BHK</td>\n",
              "      <td>927.079009</td>\n",
              "      <td>1</td>\n",
              "      <td>1</td>\n",
              "      <td>12.900150</td>\n",
              "      <td>80.227910</td>\n",
              "      <td>67.0</td>\n",
              "      <td>1</td>\n",
              "      <td>0</td>\n",
              "      <td>0</td>\n",
              "    </tr>\n",
              "    <tr>\n",
              "      <th>29450</th>\n",
              "      <td>Dealer</td>\n",
              "      <td>0</td>\n",
              "      <td>1</td>\n",
              "      <td>2</td>\n",
              "      <td>BHK</td>\n",
              "      <td>896.774194</td>\n",
              "      <td>1</td>\n",
              "      <td>1</td>\n",
              "      <td>26.832353</td>\n",
              "      <td>75.841749</td>\n",
              "      <td>27.8</td>\n",
              "      <td>0</td>\n",
              "      <td>1</td>\n",
              "      <td>0</td>\n",
              "    </tr>\n",
              "  </tbody>\n",
              "</table>\n",
              "<p>29451 rows × 14 columns</p>\n",
              "</div>\n",
              "      <button class=\"colab-df-convert\" onclick=\"convertToInteractive('df-a8f5b607-9c6e-4690-84b7-dd2ddb088f66')\"\n",
              "              title=\"Convert this dataframe to an interactive table.\"\n",
              "              style=\"display:none;\">\n",
              "        \n",
              "  <svg xmlns=\"http://www.w3.org/2000/svg\" height=\"24px\"viewBox=\"0 0 24 24\"\n",
              "       width=\"24px\">\n",
              "    <path d=\"M0 0h24v24H0V0z\" fill=\"none\"/>\n",
              "    <path d=\"M18.56 5.44l.94 2.06.94-2.06 2.06-.94-2.06-.94-.94-2.06-.94 2.06-2.06.94zm-11 1L8.5 8.5l.94-2.06 2.06-.94-2.06-.94L8.5 2.5l-.94 2.06-2.06.94zm10 10l.94 2.06.94-2.06 2.06-.94-2.06-.94-.94-2.06-.94 2.06-2.06.94z\"/><path d=\"M17.41 7.96l-1.37-1.37c-.4-.4-.92-.59-1.43-.59-.52 0-1.04.2-1.43.59L10.3 9.45l-7.72 7.72c-.78.78-.78 2.05 0 2.83L4 21.41c.39.39.9.59 1.41.59.51 0 1.02-.2 1.41-.59l7.78-7.78 2.81-2.81c.8-.78.8-2.07 0-2.86zM5.41 20L4 18.59l7.72-7.72 1.47 1.35L5.41 20z\"/>\n",
              "  </svg>\n",
              "      </button>\n",
              "      \n",
              "  <style>\n",
              "    .colab-df-container {\n",
              "      display:flex;\n",
              "      flex-wrap:wrap;\n",
              "      gap: 12px;\n",
              "    }\n",
              "\n",
              "    .colab-df-convert {\n",
              "      background-color: #E8F0FE;\n",
              "      border: none;\n",
              "      border-radius: 50%;\n",
              "      cursor: pointer;\n",
              "      display: none;\n",
              "      fill: #1967D2;\n",
              "      height: 32px;\n",
              "      padding: 0 0 0 0;\n",
              "      width: 32px;\n",
              "    }\n",
              "\n",
              "    .colab-df-convert:hover {\n",
              "      background-color: #E2EBFA;\n",
              "      box-shadow: 0px 1px 2px rgba(60, 64, 67, 0.3), 0px 1px 3px 1px rgba(60, 64, 67, 0.15);\n",
              "      fill: #174EA6;\n",
              "    }\n",
              "\n",
              "    [theme=dark] .colab-df-convert {\n",
              "      background-color: #3B4455;\n",
              "      fill: #D2E3FC;\n",
              "    }\n",
              "\n",
              "    [theme=dark] .colab-df-convert:hover {\n",
              "      background-color: #434B5C;\n",
              "      box-shadow: 0px 1px 3px 1px rgba(0, 0, 0, 0.15);\n",
              "      filter: drop-shadow(0px 1px 2px rgba(0, 0, 0, 0.3));\n",
              "      fill: #FFFFFF;\n",
              "    }\n",
              "  </style>\n",
              "\n",
              "      <script>\n",
              "        const buttonEl =\n",
              "          document.querySelector('#df-a8f5b607-9c6e-4690-84b7-dd2ddb088f66 button.colab-df-convert');\n",
              "        buttonEl.style.display =\n",
              "          google.colab.kernel.accessAllowed ? 'block' : 'none';\n",
              "\n",
              "        async function convertToInteractive(key) {\n",
              "          const element = document.querySelector('#df-a8f5b607-9c6e-4690-84b7-dd2ddb088f66');\n",
              "          const dataTable =\n",
              "            await google.colab.kernel.invokeFunction('convertToInteractive',\n",
              "                                                     [key], {});\n",
              "          if (!dataTable) return;\n",
              "\n",
              "          const docLinkHtml = 'Like what you see? Visit the ' +\n",
              "            '<a target=\"_blank\" href=https://colab.research.google.com/notebooks/data_table.ipynb>data table notebook</a>'\n",
              "            + ' to learn more about interactive tables.';\n",
              "          element.innerHTML = '';\n",
              "          dataTable['output_type'] = 'display_data';\n",
              "          await google.colab.output.renderOutput(dataTable, element);\n",
              "          const docLink = document.createElement('div');\n",
              "          docLink.innerHTML = docLinkHtml;\n",
              "          element.appendChild(docLink);\n",
              "        }\n",
              "      </script>\n",
              "    </div>\n",
              "  </div>\n",
              "  "
            ]
          },
          "metadata": {},
          "execution_count": 15
        }
      ],
      "source": [
        "df.drop(['ADDRESS','CITY'],axis=1)"
      ]
    },
    {
      "cell_type": "markdown",
      "metadata": {
        "id": "mEmNg0GHCe-g"
      },
      "source": [
        "## **Part 2: EDA**"
      ]
    },
    {
      "cell_type": "markdown",
      "source": [
        "we plot the histogram for the target column- TARGET(PRICE_IN_LACS)"
      ],
      "metadata": {
        "id": "_f2X5_S1QEP4"
      }
    },
    {
      "cell_type": "code",
      "execution_count": 16,
      "metadata": {
        "colab": {
          "base_uri": "https://localhost:8080/",
          "height": 0
        },
        "id": "-AObLqB_G2SR",
        "outputId": "e6039d92-7e8f-40da-a4b2-0142808307c4"
      },
      "outputs": [
        {
          "output_type": "execute_result",
          "data": {
            "text/plain": [
              "<matplotlib.axes._subplots.AxesSubplot at 0x7f347e40d550>"
            ]
          },
          "metadata": {},
          "execution_count": 16
        },
        {
          "output_type": "display_data",
          "data": {
            "text/plain": [
              "<Figure size 432x288 with 1 Axes>"
            ],
            "image/png": "[encoded data removed]"
          },
          "metadata": {
            "needs_background": "light"
          }
        }
      ],
      "source": [
        "sns.histplot(data=df,x='TARGET(PRICE_IN_LACS)',bins=30)"
      ]
    },
    {
      "cell_type": "markdown",
      "source": [
        "we plot the countplot in order to see the number of rooms"
      ],
      "metadata": {
        "id": "eT7ELpacQoqC"
      }
    },
    {
      "cell_type": "code",
      "execution_count": 17,
      "metadata": {
        "colab": {
          "base_uri": "https://localhost:8080/",
          "height": 0
        },
        "id": "KqoJeNRSIFR-",
        "outputId": "8e4c4cc0-620d-4ea9-c5de-0e3117404b8f"
      },
      "outputs": [
        {
          "output_type": "stream",
          "name": "stderr",
          "text": [
            "/usr/local/lib/python3.7/dist-packages/seaborn/_decorators.py:43: FutureWarning: Pass the following variable as a keyword arg: x. From version 0.12, the only valid positional argument will be `data`, and passing other arguments without an explicit keyword will result in an error or misinterpretation.\n",
            "  FutureWarning\n"
          ]
        },
        {
          "output_type": "execute_result",
          "data": {
            "text/plain": [
              "<matplotlib.axes._subplots.AxesSubplot at 0x7f347e4e2b10>"
            ]
          },
          "metadata": {},
          "execution_count": 17
        },
        {
          "output_type": "display_data",
          "data": {
            "text/plain": [
              "<Figure size 432x288 with 1 Axes>"
            ],
            "image/png": "[encoded data removed]"
          },
          "metadata": {
            "needs_background": "light"
          }
        }
      ],
      "source": [
        "sns.countplot(df[\"BHK_NO.\"])"
      ]
    },
    {
      "cell_type": "markdown",
      "source": [
        "we plot the countplot in order to see the number of buildings still under construction"
      ],
      "metadata": {
        "id": "zDoTkTJ6RbNE"
      }
    },
    {
      "cell_type": "code",
      "execution_count": 18,
      "metadata": {
        "colab": {
          "base_uri": "https://localhost:8080/",
          "height": 0
        },
        "id": "KJ0NsR4MIFjp",
        "outputId": "8700f1ea-446b-429d-c45c-1889bbdfa154"
      },
      "outputs": [
        {
          "output_type": "stream",
          "name": "stderr",
          "text": [
            "/usr/local/lib/python3.7/dist-packages/seaborn/_decorators.py:43: FutureWarning: Pass the following variable as a keyword arg: x. From version 0.12, the only valid positional argument will be `data`, and passing other arguments without an explicit keyword will result in an error or misinterpretation.\n",
            "  FutureWarning\n"
          ]
        },
        {
          "output_type": "execute_result",
          "data": {
            "text/plain": [
              "<matplotlib.axes._subplots.AxesSubplot at 0x7f347e4e2150>"
            ]
          },
          "metadata": {},
          "execution_count": 18
        },
        {
          "output_type": "display_data",
          "data": {
            "text/plain": [
              "<Figure size 432x288 with 1 Axes>"
            ],
            "image/png": "[encoded data removed]"
          },
          "metadata": {
            "needs_background": "light"
          }
        }
      ],
      "source": [
        "sns.countplot(df[\"UNDER_CONSTRUCTION\"])"
      ]
    },
    {
      "cell_type": "markdown",
      "source": [
        "we plot the countplot for the column resale in order to see the number of houses for resale"
      ],
      "metadata": {
        "id": "UWXvnSKOSY90"
      }
    },
    {
      "cell_type": "code",
      "execution_count": 19,
      "metadata": {
        "colab": {
          "base_uri": "https://localhost:8080/",
          "height": 0
        },
        "id": "olfFUBWTISir",
        "outputId": "053f2b04-0ee2-47e0-8f7b-926160a9213a"
      },
      "outputs": [
        {
          "output_type": "stream",
          "name": "stderr",
          "text": [
            "/usr/local/lib/python3.7/dist-packages/seaborn/_decorators.py:43: FutureWarning: Pass the following variable as a keyword arg: x. From version 0.12, the only valid positional argument will be `data`, and passing other arguments without an explicit keyword will result in an error or misinterpretation.\n",
            "  FutureWarning\n"
          ]
        },
        {
          "output_type": "execute_result",
          "data": {
            "text/plain": [
              "<matplotlib.axes._subplots.AxesSubplot at 0x7f347e586890>"
            ]
          },
          "metadata": {},
          "execution_count": 19
        },
        {
          "output_type": "display_data",
          "data": {
            "text/plain": [
              "<Figure size 432x288 with 1 Axes>"
            ],
            "image/png": "[encoded data removed]"
          },
          "metadata": {
            "needs_background": "light"
          }
        }
      ],
      "source": [
        "sns.countplot(df[\"RESALE\"])"
      ]
    },
    {
      "cell_type": "markdown",
      "source": [
        "In order to see the correlation of columns with each other we plot heatmap"
      ],
      "metadata": {
        "id": "fillKvl-RmfN"
      }
    },
    {
      "cell_type": "code",
      "execution_count": 20,
      "metadata": {
        "colab": {
          "base_uri": "https://localhost:8080/",
          "height": 0
        },
        "id": "nx6HV_h5IYKy",
        "outputId": "334a427d-a248-42dd-aa83-2b385ca090e7"
      },
      "outputs": [
        {
          "output_type": "execute_result",
          "data": {
            "text/plain": [
              "[]"
            ]
          },
          "metadata": {},
          "execution_count": 20
        },
        {
          "output_type": "display_data",
          "data": {
            "text/plain": [
              "<Figure size 432x288 with 2 Axes>"
            ],
            "image/png": "[encoded data removed]"
          },
          "metadata": {
            "needs_background": "light"
          }
        }
      ],
      "source": [
        "sns.heatmap(df.corr())\n",
        "plt.plot()"
      ]
    },
    {
      "cell_type": "markdown",
      "source": [
        "we drop the column UNDER_CONSTRUCTION since not many houses are under construction"
      ],
      "metadata": {
        "id": "bo1JbTXUSjjm"
      }
    },
    {
      "cell_type": "code",
      "source": [
        "df.drop(['UNDER_CONSTRUCTION'],axis=1)"
      ],
      "metadata": {
        "colab": {
          "base_uri": "https://localhost:8080/",
          "height": 0
        },
        "id": "pXYLnVlFhind",
        "outputId": "ab739b7d-bacc-4cb1-9bcf-5b326afa62b1"
      },
      "execution_count": 21,
      "outputs": [
        {
          "output_type": "execute_result",
          "data": {
            "text/plain": [
              "      POSTED_BY  RERA  BHK_NO. BHK_OR_RK    SQUARE_FT  READY_TO_MOVE  RESALE  \\\n",
              "0         Owner     0        2       BHK  1300.236407              1       1   \n",
              "1        Dealer     0        2       BHK  1275.000000              1       1   \n",
              "2         Owner     0        2       BHK   933.159722              1       1   \n",
              "3         Owner     1        2       BHK   929.921143              1       1   \n",
              "4        Dealer     0        2       BHK   999.009247              0       1   \n",
              "...         ...   ...      ...       ...          ...            ...     ...   \n",
              "29446     Owner     0        3       BHK  2500.000000              1       1   \n",
              "29447     Owner     0        2       BHK   769.230769              1       1   \n",
              "29448    Dealer     0        2       BHK  1022.641509              1       1   \n",
              "29449     Owner     0        2       BHK   927.079009              1       1   \n",
              "29450    Dealer     1        2       BHK   896.774194              1       1   \n",
              "\n",
              "                                ADDRESS  LONGITUDE   LATITUDE  \\\n",
              "0                 Ksfc Layout,Bangalore  12.969910  77.597960   \n",
              "1             Vishweshwara Nagar,Mysore  12.274538  76.644605   \n",
              "2                      Jigani,Bangalore  12.778033  77.632191   \n",
              "3           Sector-1 Vaishali,Ghaziabad  28.642300  77.344500   \n",
              "4                      New Town,Kolkata  22.592200  88.484911   \n",
              "...                                 ...        ...        ...   \n",
              "29446              Shamshabad Road,Agra  27.140626  78.043277   \n",
              "29447  E3-108, Lake View Recidency,Vapi  39.945409 -86.150721   \n",
              "29448                 Ajmer Road,Jaipur  26.928785  75.828002   \n",
              "29449            Sholinganallur,Chennai  12.900150  80.227910   \n",
              "29450                  Jagatpura,Jaipur  26.832353  75.841749   \n",
              "\n",
              "       TARGET(PRICE_IN_LACS)                  CITY  TIER1  TIER2  TIER3  \n",
              "0                       55.0             Bangalore      1      0      0  \n",
              "1                       51.0                Mysore      0      1      0  \n",
              "2                       43.0             Bangalore      1      0      0  \n",
              "3                       62.5             Ghaziabad      0      1      0  \n",
              "4                       60.5               Kolkata      1      0      0  \n",
              "...                      ...                   ...    ...    ...    ...  \n",
              "29446                   45.0                  Agra      0      1      0  \n",
              "29447                   16.0   Lake View Recidency      0      0      1  \n",
              "29448                   27.1                Jaipur      0      1      0  \n",
              "29449                   67.0               Chennai      1      0      0  \n",
              "29450                   27.8                Jaipur      0      1      0  \n",
              "\n",
              "[29451 rows x 15 columns]"
            ],
            "text/html": [
              "\n",
              "  <div id=\"df-f8f17295-f712-46ed-bfdc-590f955fd604\">\n",
              "    <div class=\"colab-df-container\">\n",
              "      <div>\n",
              "<style scoped>\n",
              "    .dataframe tbody tr th:only-of-type {\n",
              "        vertical-align: middle;\n",
              "    }\n",
              "\n",
              "    .dataframe tbody tr th {\n",
              "        vertical-align: top;\n",
              "    }\n",
              "\n",
              "    .dataframe thead th {\n",
              "        text-align: right;\n",
              "    }\n",
              "</style>\n",
              "<table border=\"1\" class=\"dataframe\">\n",
              "  <thead>\n",
              "    <tr style=\"text-align: right;\">\n",
              "      <th></th>\n",
              "      <th>POSTED_BY</th>\n",
              "      <th>RERA</th>\n",
              "      <th>BHK_NO.</th>\n",
              "      <th>BHK_OR_RK</th>\n",
              "      <th>SQUARE_FT</th>\n",
              "      <th>READY_TO_MOVE</th>\n",
              "      <th>RESALE</th>\n",
              "      <th>ADDRESS</th>\n",
              "      <th>LONGITUDE</th>\n",
              "      <th>LATITUDE</th>\n",
              "      <th>TARGET(PRICE_IN_LACS)</th>\n",
              "      <th>CITY</th>\n",
              "      <th>TIER1</th>\n",
              "      <th>TIER2</th>\n",
              "      <th>TIER3</th>\n",
              "    </tr>\n",
              "  </thead>\n",
              "  <tbody>\n",
              "    <tr>\n",
              "      <th>0</th>\n",
              "      <td>Owner</td>\n",
              "      <td>0</td>\n",
              "      <td>2</td>\n",
              "      <td>BHK</td>\n",
              "      <td>1300.236407</td>\n",
              "      <td>1</td>\n",
              "      <td>1</td>\n",
              "      <td>Ksfc Layout,Bangalore</td>\n",
              "      <td>12.969910</td>\n",
              "      <td>77.597960</td>\n",
              "      <td>55.0</td>\n",
              "      <td>Bangalore</td>\n",
              "      <td>1</td>\n",
              "      <td>0</td>\n",
              "      <td>0</td>\n",
              "    </tr>\n",
              "    <tr>\n",
              "      <th>1</th>\n",
              "      <td>Dealer</td>\n",
              "      <td>0</td>\n",
              "      <td>2</td>\n",
              "      <td>BHK</td>\n",
              "      <td>1275.000000</td>\n",
              "      <td>1</td>\n",
              "      <td>1</td>\n",
              "      <td>Vishweshwara Nagar,Mysore</td>\n",
              "      <td>12.274538</td>\n",
              "      <td>76.644605</td>\n",
              "      <td>51.0</td>\n",
              "      <td>Mysore</td>\n",
              "      <td>0</td>\n",
              "      <td>1</td>\n",
              "      <td>0</td>\n",
              "    </tr>\n",
              "    <tr>\n",
              "      <th>2</th>\n",
              "      <td>Owner</td>\n",
              "      <td>0</td>\n",
              "      <td>2</td>\n",
              "      <td>BHK</td>\n",
              "      <td>933.159722</td>\n",
              "      <td>1</td>\n",
              "      <td>1</td>\n",
              "      <td>Jigani,Bangalore</td>\n",
              "      <td>12.778033</td>\n",
              "      <td>77.632191</td>\n",
              "      <td>43.0</td>\n",
              "      <td>Bangalore</td>\n",
              "      <td>1</td>\n",
              "      <td>0</td>\n",
              "      <td>0</td>\n",
              "    </tr>\n",
              "    <tr>\n",
              "      <th>3</th>\n",
              "      <td>Owner</td>\n",
              "      <td>1</td>\n",
              "      <td>2</td>\n",
              "      <td>BHK</td>\n",
              "      <td>929.921143</td>\n",
              "      <td>1</td>\n",
              "      <td>1</td>\n",
              "      <td>Sector-1 Vaishali,Ghaziabad</td>\n",
              "      <td>28.642300</td>\n",
              "      <td>77.344500</td>\n",
              "      <td>62.5</td>\n",
              "      <td>Ghaziabad</td>\n",
              "      <td>0</td>\n",
              "      <td>1</td>\n",
              "      <td>0</td>\n",
              "    </tr>\n",
              "    <tr>\n",
              "      <th>4</th>\n",
              "      <td>Dealer</td>\n",
              "      <td>0</td>\n",
              "      <td>2</td>\n",
              "      <td>BHK</td>\n",
              "      <td>999.009247</td>\n",
              "      <td>0</td>\n",
              "      <td>1</td>\n",
              "      <td>New Town,Kolkata</td>\n",
              "      <td>22.592200</td>\n",
              "      <td>88.484911</td>\n",
              "      <td>60.5</td>\n",
              "      <td>Kolkata</td>\n",
              "      <td>1</td>\n",
              "      <td>0</td>\n",
              "      <td>0</td>\n",
              "    </tr>\n",
              "    <tr>\n",
              "      <th>...</th>\n",
              "      <td>...</td>\n",
              "      <td>...</td>\n",
              "      <td>...</td>\n",
              "      <td>...</td>\n",
              "      <td>...</td>\n",
              "      <td>...</td>\n",
              "      <td>...</td>\n",
              "      <td>...</td>\n",
              "      <td>...</td>\n",
              "      <td>...</td>\n",
              "      <td>...</td>\n",
              "      <td>...</td>\n",
              "      <td>...</td>\n",
              "      <td>...</td>\n",
              "      <td>...</td>\n",
              "    </tr>\n",
              "    <tr>\n",
              "      <th>29446</th>\n",
              "      <td>Owner</td>\n",
              "      <td>0</td>\n",
              "      <td>3</td>\n",
              "      <td>BHK</td>\n",
              "      <td>2500.000000</td>\n",
              "      <td>1</td>\n",
              "      <td>1</td>\n",
              "      <td>Shamshabad Road,Agra</td>\n",
              "      <td>27.140626</td>\n",
              "      <td>78.043277</td>\n",
              "      <td>45.0</td>\n",
              "      <td>Agra</td>\n",
              "      <td>0</td>\n",
              "      <td>1</td>\n",
              "      <td>0</td>\n",
              "    </tr>\n",
              "    <tr>\n",
              "      <th>29447</th>\n",
              "      <td>Owner</td>\n",
              "      <td>0</td>\n",
              "      <td>2</td>\n",
              "      <td>BHK</td>\n",
              "      <td>769.230769</td>\n",
              "      <td>1</td>\n",
              "      <td>1</td>\n",
              "      <td>E3-108, Lake View Recidency,Vapi</td>\n",
              "      <td>39.945409</td>\n",
              "      <td>-86.150721</td>\n",
              "      <td>16.0</td>\n",
              "      <td>Lake View Recidency</td>\n",
              "      <td>0</td>\n",
              "      <td>0</td>\n",
              "      <td>1</td>\n",
              "    </tr>\n",
              "    <tr>\n",
              "      <th>29448</th>\n",
              "      <td>Dealer</td>\n",
              "      <td>0</td>\n",
              "      <td>2</td>\n",
              "      <td>BHK</td>\n",
              "      <td>1022.641509</td>\n",
              "      <td>1</td>\n",
              "      <td>1</td>\n",
              "      <td>Ajmer Road,Jaipur</td>\n",
              "      <td>26.928785</td>\n",
              "      <td>75.828002</td>\n",
              "      <td>27.1</td>\n",
              "      <td>Jaipur</td>\n",
              "      <td>0</td>\n",
              "      <td>1</td>\n",
              "      <td>0</td>\n",
              "    </tr>\n",
              "    <tr>\n",
              "      <th>29449</th>\n",
              "      <td>Owner</td>\n",
              "      <td>0</td>\n",
              "      <td>2</td>\n",
              "      <td>BHK</td>\n",
              "      <td>927.079009</td>\n",
              "      <td>1</td>\n",
              "      <td>1</td>\n",
              "      <td>Sholinganallur,Chennai</td>\n",
              "      <td>12.900150</td>\n",
              "      <td>80.227910</td>\n",
              "      <td>67.0</td>\n",
              "      <td>Chennai</td>\n",
              "      <td>1</td>\n",
              "      <td>0</td>\n",
              "      <td>0</td>\n",
              "    </tr>\n",
              "    <tr>\n",
              "      <th>29450</th>\n",
              "      <td>Dealer</td>\n",
              "      <td>1</td>\n",
              "      <td>2</td>\n",
              "      <td>BHK</td>\n",
              "      <td>896.774194</td>\n",
              "      <td>1</td>\n",
              "      <td>1</td>\n",
              "      <td>Jagatpura,Jaipur</td>\n",
              "      <td>26.832353</td>\n",
              "      <td>75.841749</td>\n",
              "      <td>27.8</td>\n",
              "      <td>Jaipur</td>\n",
              "      <td>0</td>\n",
              "      <td>1</td>\n",
              "      <td>0</td>\n",
              "    </tr>\n",
              "  </tbody>\n",
              "</table>\n",
              "<p>29451 rows × 15 columns</p>\n",
              "</div>\n",
              "      <button class=\"colab-df-convert\" onclick=\"convertToInteractive('df-f8f17295-f712-46ed-bfdc-590f955fd604')\"\n",
              "              title=\"Convert this dataframe to an interactive table.\"\n",
              "              style=\"display:none;\">\n",
              "        \n",
              "  <svg xmlns=\"http://www.w3.org/2000/svg\" height=\"24px\"viewBox=\"0 0 24 24\"\n",
              "       width=\"24px\">\n",
              "    <path d=\"M0 0h24v24H0V0z\" fill=\"none\"/>\n",
              "    <path d=\"M18.56 5.44l.94 2.06.94-2.06 2.06-.94-2.06-.94-.94-2.06-.94 2.06-2.06.94zm-11 1L8.5 8.5l.94-2.06 2.06-.94-2.06-.94L8.5 2.5l-.94 2.06-2.06.94zm10 10l.94 2.06.94-2.06 2.06-.94-2.06-.94-.94-2.06-.94 2.06-2.06.94z\"/><path d=\"M17.41 7.96l-1.37-1.37c-.4-.4-.92-.59-1.43-.59-.52 0-1.04.2-1.43.59L10.3 9.45l-7.72 7.72c-.78.78-.78 2.05 0 2.83L4 21.41c.39.39.9.59 1.41.59.51 0 1.02-.2 1.41-.59l7.78-7.78 2.81-2.81c.8-.78.8-2.07 0-2.86zM5.41 20L4 18.59l7.72-7.72 1.47 1.35L5.41 20z\"/>\n",
              "  </svg>\n",
              "      </button>\n",
              "      \n",
              "  <style>\n",
              "    .colab-df-container {\n",
              "      display:flex;\n",
              "      flex-wrap:wrap;\n",
              "      gap: 12px;\n",
              "    }\n",
              "\n",
              "    .colab-df-convert {\n",
              "      background-color: #E8F0FE;\n",
              "      border: none;\n",
              "      border-radius: 50%;\n",
              "      cursor: pointer;\n",
              "      display: none;\n",
              "      fill: #1967D2;\n",
              "      height: 32px;\n",
              "      padding: 0 0 0 0;\n",
              "      width: 32px;\n",
              "    }\n",
              "\n",
              "    .colab-df-convert:hover {\n",
              "      background-color: #E2EBFA;\n",
              "      box-shadow: 0px 1px 2px rgba(60, 64, 67, 0.3), 0px 1px 3px 1px rgba(60, 64, 67, 0.15);\n",
              "      fill: #174EA6;\n",
              "    }\n",
              "\n",
              "    [theme=dark] .colab-df-convert {\n",
              "      background-color: #3B4455;\n",
              "      fill: #D2E3FC;\n",
              "    }\n",
              "\n",
              "    [theme=dark] .colab-df-convert:hover {\n",
              "      background-color: #434B5C;\n",
              "      box-shadow: 0px 1px 3px 1px rgba(0, 0, 0, 0.15);\n",
              "      filter: drop-shadow(0px 1px 2px rgba(0, 0, 0, 0.3));\n",
              "      fill: #FFFFFF;\n",
              "    }\n",
              "  </style>\n",
              "\n",
              "      <script>\n",
              "        const buttonEl =\n",
              "          document.querySelector('#df-f8f17295-f712-46ed-bfdc-590f955fd604 button.colab-df-convert');\n",
              "        buttonEl.style.display =\n",
              "          google.colab.kernel.accessAllowed ? 'block' : 'none';\n",
              "\n",
              "        async function convertToInteractive(key) {\n",
              "          const element = document.querySelector('#df-f8f17295-f712-46ed-bfdc-590f955fd604');\n",
              "          const dataTable =\n",
              "            await google.colab.kernel.invokeFunction('convertToInteractive',\n",
              "                                                     [key], {});\n",
              "          if (!dataTable) return;\n",
              "\n",
              "          const docLinkHtml = 'Like what you see? Visit the ' +\n",
              "            '<a target=\"_blank\" href=https://colab.research.google.com/notebooks/data_table.ipynb>data table notebook</a>'\n",
              "            + ' to learn more about interactive tables.';\n",
              "          element.innerHTML = '';\n",
              "          dataTable['output_type'] = 'display_data';\n",
              "          await google.colab.output.renderOutput(dataTable, element);\n",
              "          const docLink = document.createElement('div');\n",
              "          docLink.innerHTML = docLinkHtml;\n",
              "          element.appendChild(docLink);\n",
              "        }\n",
              "      </script>\n",
              "    </div>\n",
              "  </div>\n",
              "  "
            ]
          },
          "metadata": {},
          "execution_count": 21
        }
      ]
    },
    {
      "cell_type": "markdown",
      "source": [
        "We use get_dummies() to convert categorical variable into dummy/indicator variables. we use it on two columns: POSTED_BY and BHK_0R_RK"
      ],
      "metadata": {
        "id": "oBcS5_zzTXq-"
      }
    },
    {
      "cell_type": "code",
      "source": [
        "df1 = pd.get_dummies(df, columns = ['POSTED_BY', 'BHK_OR_RK'])\n",
        "print(df1)"
      ],
      "metadata": {
        "colab": {
          "base_uri": "https://localhost:8080/"
        },
        "id": "WssoNcBoifxr",
        "outputId": "843a4b31-3241-42a6-b2fb-5394b107abce"
      },
      "execution_count": 22,
      "outputs": [
        {
          "output_type": "stream",
          "name": "stdout",
          "text": [
            "       UNDER_CONSTRUCTION  RERA  BHK_NO.    SQUARE_FT  READY_TO_MOVE  RESALE  \\\n",
            "0                       0     0        2  1300.236407              1       1   \n",
            "1                       0     0        2  1275.000000              1       1   \n",
            "2                       0     0        2   933.159722              1       1   \n",
            "3                       0     1        2   929.921143              1       1   \n",
            "4                       1     0        2   999.009247              0       1   \n",
            "...                   ...   ...      ...          ...            ...     ...   \n",
            "29446                   0     0        3  2500.000000              1       1   \n",
            "29447                   0     0        2   769.230769              1       1   \n",
            "29448                   0     0        2  1022.641509              1       1   \n",
            "29449                   0     0        2   927.079009              1       1   \n",
            "29450                   0     1        2   896.774194              1       1   \n",
            "\n",
            "                                ADDRESS  LONGITUDE   LATITUDE  \\\n",
            "0                 Ksfc Layout,Bangalore  12.969910  77.597960   \n",
            "1             Vishweshwara Nagar,Mysore  12.274538  76.644605   \n",
            "2                      Jigani,Bangalore  12.778033  77.632191   \n",
            "3           Sector-1 Vaishali,Ghaziabad  28.642300  77.344500   \n",
            "4                      New Town,Kolkata  22.592200  88.484911   \n",
            "...                                 ...        ...        ...   \n",
            "29446              Shamshabad Road,Agra  27.140626  78.043277   \n",
            "29447  E3-108, Lake View Recidency,Vapi  39.945409 -86.150721   \n",
            "29448                 Ajmer Road,Jaipur  26.928785  75.828002   \n",
            "29449            Sholinganallur,Chennai  12.900150  80.227910   \n",
            "29450                  Jagatpura,Jaipur  26.832353  75.841749   \n",
            "\n",
            "       TARGET(PRICE_IN_LACS)                  CITY  TIER1  TIER2  TIER3  \\\n",
            "0                       55.0             Bangalore      1      0      0   \n",
            "1                       51.0                Mysore      0      1      0   \n",
            "2                       43.0             Bangalore      1      0      0   \n",
            "3                       62.5             Ghaziabad      0      1      0   \n",
            "4                       60.5               Kolkata      1      0      0   \n",
            "...                      ...                   ...    ...    ...    ...   \n",
            "29446                   45.0                  Agra      0      1      0   \n",
            "29447                   16.0   Lake View Recidency      0      0      1   \n",
            "29448                   27.1                Jaipur      0      1      0   \n",
            "29449                   67.0               Chennai      1      0      0   \n",
            "29450                   27.8                Jaipur      0      1      0   \n",
            "\n",
            "       POSTED_BY_Builder  POSTED_BY_Dealer  POSTED_BY_Owner  BHK_OR_RK_BHK  \\\n",
            "0                      0                 0                1              1   \n",
            "1                      0                 1                0              1   \n",
            "2                      0                 0                1              1   \n",
            "3                      0                 0                1              1   \n",
            "4                      0                 1                0              1   \n",
            "...                  ...               ...              ...            ...   \n",
            "29446                  0                 0                1              1   \n",
            "29447                  0                 0                1              1   \n",
            "29448                  0                 1                0              1   \n",
            "29449                  0                 0                1              1   \n",
            "29450                  0                 1                0              1   \n",
            "\n",
            "       BHK_OR_RK_RK  \n",
            "0                 0  \n",
            "1                 0  \n",
            "2                 0  \n",
            "3                 0  \n",
            "4                 0  \n",
            "...             ...  \n",
            "29446             0  \n",
            "29447             0  \n",
            "29448             0  \n",
            "29449             0  \n",
            "29450             0  \n",
            "\n",
            "[29451 rows x 19 columns]\n"
          ]
        }
      ]
    },
    {
      "cell_type": "markdown",
      "source": [
        "we find the variance inflation factor of every column in order to check for multicollinearity"
      ],
      "metadata": {
        "id": "cemMwsPbTtNZ"
      }
    },
    {
      "cell_type": "code",
      "source": [
        "from statsmodels.stats.outliers_influence import variance_inflation_factor \n",
        "X = df1[['UNDER_CONSTRUCTION','RERA','BHK_NO.','SQUARE_FT','READY_TO_MOVE','RESALE','LONGITUDE','LATITUDE','TIER1','TIER2',\n",
        "            'TIER3','POSTED_BY_Builder','POSTED_BY_Dealer','POSTED_BY_Owner','BHK_OR_RK_BHK','BHK_OR_RK_RK']] \n",
        "vif_data = pd.DataFrame() \n",
        "vif_data[\"feature\"] = X.columns \n",
        "# calculating VIF for each feature \n",
        "\n",
        "vif_data[\"VIF\"] = [variance_inflation_factor(X.values, i) \n",
        "\n",
        "                          for i in range(len(X.columns))] \n",
        "\n",
        "  \n",
        "\n",
        "print(vif_data)"
      ],
      "metadata": {
        "colab": {
          "base_uri": "https://localhost:8080/"
        },
        "id": "Nu__jJ3UioHK",
        "outputId": "c273e38f-35cf-465e-b5d0-1644dab0ade8"
      },
      "execution_count": 23,
      "outputs": [
        {
          "output_type": "stream",
          "name": "stderr",
          "text": [
            "/usr/local/lib/python3.7/dist-packages/statsmodels/tools/_testing.py:19: FutureWarning: pandas.util.testing is deprecated. Use the functions in the public API at pandas.testing instead.\n",
            "  import pandas.util.testing as tm\n",
            "/usr/local/lib/python3.7/dist-packages/statsmodels/stats/outliers_influence.py:185: RuntimeWarning: divide by zero encountered in double_scalars\n",
            "  vif = 1. / (1. - r_squared_i)\n"
          ]
        },
        {
          "output_type": "stream",
          "name": "stdout",
          "text": [
            "               feature       VIF\n",
            "0   UNDER_CONSTRUCTION       inf\n",
            "1                 RERA  1.250392\n",
            "2              BHK_NO.  1.037216\n",
            "3            SQUARE_FT  1.000285\n",
            "4        READY_TO_MOVE       inf\n",
            "5               RESALE  1.587718\n",
            "6            LONGITUDE  1.533752\n",
            "7             LATITUDE  1.040466\n",
            "8                TIER1       inf\n",
            "9                TIER2       inf\n",
            "10               TIER3       inf\n",
            "11   POSTED_BY_Builder       inf\n",
            "12    POSTED_BY_Dealer       inf\n",
            "13     POSTED_BY_Owner       inf\n",
            "14       BHK_OR_RK_BHK       inf\n",
            "15        BHK_OR_RK_RK       inf\n"
          ]
        }
      ]
    },
    {
      "cell_type": "markdown",
      "source": [
        "#model fitting"
      ],
      "metadata": {
        "id": "r9H_sSo-UYE4"
      }
    },
    {
      "cell_type": "code",
      "source": [
        "#in our dataset TARGET(PRICE_IN_LACS) is the dependent variable and RERA, BHK_NO., SQUARE_FT, RESALE, LONGITUDE, LATITUDE are the independent variable\n",
        "target_feature='TARGET(PRICE_IN_LACS)'\n",
        "\n",
        "#separate feature for target feature\n",
        "y=df[target_feature]\n",
        "\n",
        "#separate feature for input feature\n",
        "X=df[['RERA','BHK_NO.','SQUARE_FT','RESALE','LONGITUDE','LATITUDE']]"
      ],
      "metadata": {
        "id": "ugljKoG2nrBQ"
      },
      "execution_count": 24,
      "outputs": []
    },
    {
      "cell_type": "markdown",
      "source": [
        "we import train_test_split from sklearn.model_selection and we split the dataset into training and testing variables where test_size is 0.2 which implies we are using 80% of the data to train the model and 20% of the data to test the model."
      ],
      "metadata": {
        "id": "uVNlxF-YVBdG"
      }
    },
    {
      "cell_type": "code",
      "source": [
        "from sklearn.model_selection import train_test_split\n",
        "X_train,X_test,y_train,y_test=train_test_split(X,y,test_size=0.2,random_state=0)"
      ],
      "metadata": {
        "id": "CDadH9Lriy6H"
      },
      "execution_count": 25,
      "outputs": []
    },
    {
      "cell_type": "markdown",
      "source": [
        "we first fit the data into the linear regression model"
      ],
      "metadata": {
        "id": "qPhQSEeeVjRn"
      }
    },
    {
      "cell_type": "code",
      "source": [
        "from sklearn.linear_model import LinearRegression\n",
        "regr=LinearRegression()\n",
        "regr.fit(X_train,y_train)"
      ],
      "metadata": {
        "colab": {
          "base_uri": "https://localhost:8080/"
        },
        "id": "yep-fJCzpG1C",
        "outputId": "4d06b3a0-8eb4-4649-a4b6-6b81bd2b0b3f"
      },
      "execution_count": 26,
      "outputs": [
        {
          "output_type": "execute_result",
          "data": {
            "text/plain": [
              "LinearRegression()"
            ]
          },
          "metadata": {},
          "execution_count": 26
        }
      ]
    },
    {
      "cell_type": "markdown",
      "source": [
        "then we find the intercept"
      ],
      "metadata": {
        "id": "z0fB21-DVsjK"
      }
    },
    {
      "cell_type": "code",
      "source": [
        "regr.intercept_\n",
        "print('intercept (b) is : ',regr.intercept_)"
      ],
      "metadata": {
        "colab": {
          "base_uri": "https://localhost:8080/"
        },
        "id": "pL4hKM6zpN7c",
        "outputId": "f7926b88-c5dc-40fe-ce51-d17153a6df40"
      },
      "execution_count": 27,
      "outputs": [
        {
          "output_type": "stream",
          "name": "stdout",
          "text": [
            "intercept (b) is :  636.2723202706264\n"
          ]
        }
      ]
    },
    {
      "cell_type": "markdown",
      "source": [
        "and the regression coefficient"
      ],
      "metadata": {
        "id": "x8w878zFVvB9"
      }
    },
    {
      "cell_type": "code",
      "source": [
        "regr.coef_\n",
        "print('ceofficient (m) is : ',regr.coef_)"
      ],
      "metadata": {
        "colab": {
          "base_uri": "https://localhost:8080/"
        },
        "id": "9lky8ppEpRxx",
        "outputId": "fcea7c1d-6a04-4306-ac4e-4929381912cf"
      },
      "execution_count": 28,
      "outputs": [
        {
          "output_type": "stream",
          "name": "stdout",
          "text": [
            "ceofficient (m) is :  [ 2.38788747e+01  8.72026146e+01  1.28745588e-04 -5.45811274e+02\n",
            " -3.70136446e+00 -1.61529538e+00]\n"
          ]
        }
      ]
    },
    {
      "cell_type": "markdown",
      "source": [
        "finally we predict the target variable"
      ],
      "metadata": {
        "id": "0a3D3I8kV0M7"
      }
    },
    {
      "cell_type": "code",
      "source": [
        "y_pred=regr.predict(X_test)"
      ],
      "metadata": {
        "id": "m4dl5ZH-tiX_"
      },
      "execution_count": 29,
      "outputs": []
    },
    {
      "cell_type": "markdown",
      "source": [
        "we import statsmodel and fit the data in order to get the statistical insights from the data"
      ],
      "metadata": {
        "id": "z8Qi30IxvKiM"
      }
    },
    {
      "cell_type": "markdown",
      "source": [
        "With this p-value, you can check for the\n",
        "significance of the independent variables in\n",
        "explaining the regression model and we know that if p<0.05 then the variable is significant."
      ],
      "metadata": {
        "id": "wbVyAn-iv0WD"
      }
    },
    {
      "cell_type": "code",
      "source": [
        "import statsmodels.api as sm\n",
        "model = sm.OLS(y_pred,X_test).fit()\n",
        "predictions = model.predict(X_test) \n",
        "print_model = model.summary()\n",
        "print(print_model)"
      ],
      "metadata": {
        "colab": {
          "base_uri": "https://localhost:8080/"
        },
        "id": "KPpm7P6ypq45",
        "outputId": "23f62099-05a9-4b9e-cab4-0a736fc48ea9"
      },
      "execution_count": 30,
      "outputs": [
        {
          "output_type": "stream",
          "name": "stdout",
          "text": [
            "                                 OLS Regression Results                                \n",
            "=======================================================================================\n",
            "Dep. Variable:                      y   R-squared (uncentered):                   0.971\n",
            "Model:                            OLS   Adj. R-squared (uncentered):              0.971\n",
            "Method:                 Least Squares   F-statistic:                          3.306e+04\n",
            "Date:                Thu, 24 Mar 2022   Prob (F-statistic):                        0.00\n",
            "Time:                        11:42:13   Log-Likelihood:                         -32960.\n",
            "No. Observations:                5891   AIC:                                  6.593e+04\n",
            "Df Residuals:                    5885   BIC:                                  6.597e+04\n",
            "Df Model:                           6                                                  \n",
            "Covariance Type:            nonrobust                                                  \n",
            "==============================================================================\n",
            "                 coef    std err          t      P>|t|      [0.025      0.975]\n",
            "------------------------------------------------------------------------------\n",
            "RERA          50.4635      1.872     26.963      0.000      46.795      54.133\n",
            "BHK_NO.      103.6532      0.992    104.488      0.000     101.708     105.598\n",
            "SQUARE_FT      0.0001   3.48e-07    370.964      0.000       0.000       0.000\n",
            "RESALE      -447.4986      3.167   -141.311      0.000    -453.707    -441.291\n",
            "LONGITUDE      0.7275      0.130      5.590      0.000       0.472       0.983\n",
            "LATITUDE       3.5431      0.050     71.243      0.000       3.446       3.641\n",
            "==============================================================================\n",
            "Omnibus:                     5643.546   Durbin-Watson:                   1.961\n",
            "Prob(Omnibus):                  0.000   Jarque-Bera (JB):           819274.528\n",
            "Skew:                           4.199   Prob(JB):                         0.00\n",
            "Kurtosis:                      60.160   Cond. No.                     9.23e+06\n",
            "==============================================================================\n",
            "\n",
            "Warnings:\n",
            "[1] Standard Errors assume that the covariance matrix of the errors is correctly specified.\n",
            "[2] The condition number is large, 9.23e+06. This might indicate that there are\n",
            "strong multicollinearity or other numerical problems.\n"
          ]
        }
      ]
    },
    {
      "cell_type": "markdown",
      "source": [
        "In order to remove multicollinearity we need to do PCA but before e need to standardize the data for which we use feature scaling."
      ],
      "metadata": {
        "id": "-V3sVIqOwFTA"
      }
    },
    {
      "cell_type": "code",
      "source": [
        "# Do feature scaling\n",
        "from sklearn.preprocessing import StandardScaler\n",
        "sc = StandardScaler()\n",
        "X_scaled = sc.fit_transform(X_train)\n",
        "\n",
        "# Apply PCA\n",
        "from sklearn.decomposition import PCA\n",
        "pca = PCA(n_components=6)\n",
        "X_pca = pca.fit_transform(X_scaled)\n",
        "\n",
        "# Get the transformed dataset\n",
        "X_pca = pd.DataFrame(X_pca)\n",
        "print(X_pca.head())\n",
        "print(\"\\nSize: \")\n",
        "print(X_pca.shape)"
      ],
      "metadata": {
        "colab": {
          "base_uri": "https://localhost:8080/"
        },
        "id": "__VCuVVStyGk",
        "outputId": "244e06fb-a026-43a8-db08-4a7a87c06d4e"
      },
      "execution_count": 31,
      "outputs": [
        {
          "output_type": "stream",
          "name": "stdout",
          "text": [
            "          0         1         2         3         4         5\n",
            "0  0.964509  0.032439 -0.131671 -0.013010 -0.918530 -0.968329\n",
            "1  0.328220 -1.106923 -0.469214 -0.004613  0.202552 -1.608179\n",
            "2  3.156932 -1.869753 -0.124989  0.000678 -0.168356  1.549663\n",
            "3  0.336630 -0.958355  0.553039 -0.026615  0.648642 -1.638761\n",
            "4 -1.101321 -0.516667  0.364903 -0.026858  1.060103 -0.175150\n",
            "\n",
            "Size: \n",
            "(23560, 6)\n"
          ]
        }
      ]
    },
    {
      "cell_type": "markdown",
      "source": [
        "after transforming the data we again fit the data into the linear regression model"
      ],
      "metadata": {
        "id": "YyIYEcptwemU"
      }
    },
    {
      "cell_type": "code",
      "source": [
        "regr1=LinearRegression()\n",
        "regr1.fit(X_pca,y_train)"
      ],
      "metadata": {
        "colab": {
          "base_uri": "https://localhost:8080/"
        },
        "id": "hnTbeGQ7uJPd",
        "outputId": "bf672b91-fe60-476a-e729-900ab414700c"
      },
      "execution_count": 32,
      "outputs": [
        {
          "output_type": "execute_result",
          "data": {
            "text/plain": [
              "LinearRegression()"
            ]
          },
          "metadata": {},
          "execution_count": 32
        }
      ]
    },
    {
      "cell_type": "code",
      "source": [
        "from sklearn.preprocessing import StandardScaler\n",
        "sc = StandardScaler()\n",
        "X_test_scaled = sc.fit_transform(X_test)\n",
        "\n",
        "# Apply PCA\n",
        "from sklearn.decomposition import PCA\n",
        "pca = PCA(n_components=6)\n",
        "X_test_pca = pca.fit_transform(X_test_scaled)\n",
        "\n",
        "# Get the transformed dataset\n",
        "X_test_pca = pd.DataFrame(X_test_pca)\n",
        "print(X_test_pca.head())\n",
        "print(\"\\nSize: \")\n",
        "print(X_test_pca.shape)"
      ],
      "metadata": {
        "colab": {
          "base_uri": "https://localhost:8080/"
        },
        "id": "MTPNgWbRuL-N",
        "outputId": "75cc8d05-3080-4b1d-f6ce-1c6e5949667e"
      },
      "execution_count": 33,
      "outputs": [
        {
          "output_type": "stream",
          "name": "stdout",
          "text": [
            "          0         1         2         3         4         5\n",
            "0  5.940317  8.089870 -9.708466  3.487268  7.813996  1.053940\n",
            "1 -0.290103  0.698549 -0.556924  0.062764 -0.639953  0.587743\n",
            "2 -0.907919 -0.423102 -0.331378  0.017953  0.136466  0.138540\n",
            "3  2.937148 -2.280871  0.297273 -0.008853  0.445959  1.230011\n",
            "4  0.987552  0.652496  1.267555 -0.119392  1.093690 -1.407902\n",
            "\n",
            "Size: \n",
            "(5891, 6)\n"
          ]
        }
      ]
    },
    {
      "cell_type": "code",
      "source": [
        "y_pred1=regr1.predict(X_test_pca)"
      ],
      "metadata": {
        "id": "4mxLaVCIuSo8"
      },
      "execution_count": 34,
      "outputs": []
    },
    {
      "cell_type": "code",
      "source": [
        "model = sm.OLS(y_pred1,X_test_pca).fit()\n",
        "predictions1 = model.predict(X_test_pca) \n",
        "print_model1 = model.summary()\n",
        "print(print_model1)"
      ],
      "metadata": {
        "colab": {
          "base_uri": "https://localhost:8080/"
        },
        "id": "haZX9QozuWvy",
        "outputId": "f05cae67-0c15-43b9-eeb4-67b45d6ce666"
      },
      "execution_count": 35,
      "outputs": [
        {
          "output_type": "stream",
          "name": "stdout",
          "text": [
            "                                 OLS Regression Results                                \n",
            "=======================================================================================\n",
            "Dep. Variable:                      y   R-squared (uncentered):                   0.787\n",
            "Model:                            OLS   Adj. R-squared (uncentered):              0.787\n",
            "Method:                 Least Squares   F-statistic:                              3620.\n",
            "Date:                Thu, 24 Mar 2022   Prob (F-statistic):                        0.00\n",
            "Time:                        11:42:13   Log-Likelihood:                         -37649.\n",
            "No. Observations:                5891   AIC:                                  7.531e+04\n",
            "Df Residuals:                    5885   BIC:                                  7.535e+04\n",
            "Df Model:                           6                                                  \n",
            "Covariance Type:            nonrobust                                                  \n",
            "==============================================================================\n",
            "                 coef    std err          t      P>|t|      [0.025      0.975]\n",
            "------------------------------------------------------------------------------\n",
            "0             77.5152      1.641     47.226      0.000      74.297      80.733\n",
            "1            -73.3519      1.784    -41.119      0.000     -76.849     -69.855\n",
            "2             71.9137      1.852     38.826      0.000      68.283      75.545\n",
            "3            223.5887      1.882    118.810      0.000     219.899     227.278\n",
            "4             69.8197      2.068     33.762      0.000      65.766      73.874\n",
            "5             71.6234      2.223     32.222      0.000      67.266      75.981\n",
            "==============================================================================\n",
            "Omnibus:                    19854.212   Durbin-Watson:                   0.000\n",
            "Prob(Omnibus):                  0.000   Jarque-Bera (JB):       4394678385.809\n",
            "Skew:                         -60.051   Prob(JB):                         0.00\n",
            "Kurtosis:                    4232.603   Cond. No.                         1.35\n",
            "==============================================================================\n",
            "\n",
            "Warnings:\n",
            "[1] Standard Errors assume that the covariance matrix of the errors is correctly specified.\n"
          ]
        }
      ]
    },
    {
      "cell_type": "markdown",
      "source": [
        "now we implement lasso and ridge and compare the results"
      ],
      "metadata": {
        "id": "u94zon1ews4n"
      }
    },
    {
      "cell_type": "code",
      "source": [
        "from sklearn.linear_model import Lasso\n",
        "lasso = Lasso()\n",
        "lasso.fit(X_train,y_train)"
      ],
      "metadata": {
        "colab": {
          "base_uri": "https://localhost:8080/"
        },
        "id": "02DvvytvuZ9Q",
        "outputId": "a6f04e3f-e0ab-4fed-e11e-029832d34f03"
      },
      "execution_count": 36,
      "outputs": [
        {
          "output_type": "execute_result",
          "data": {
            "text/plain": [
              "Lasso()"
            ]
          },
          "metadata": {},
          "execution_count": 36
        }
      ]
    },
    {
      "cell_type": "code",
      "source": [
        "y_pred_lasso=lasso.predict(X_test)"
      ],
      "metadata": {
        "id": "Ahi3E_J-ufFx"
      },
      "execution_count": 37,
      "outputs": []
    },
    {
      "cell_type": "code",
      "source": [
        "model_lasso = sm.OLS(y_pred_lasso,X_test).fit()\n",
        "predictions_lasso = model_lasso.predict(X_test) \n",
        "print_model_lasso = model_lasso.summary()\n",
        "print(print_model_lasso)"
      ],
      "metadata": {
        "colab": {
          "base_uri": "https://localhost:8080/"
        },
        "id": "1x1-ytzluifP",
        "outputId": "28561db2-8bc9-40ec-d898-7df236839133"
      },
      "execution_count": 38,
      "outputs": [
        {
          "output_type": "stream",
          "name": "stdout",
          "text": [
            "                                 OLS Regression Results                                \n",
            "=======================================================================================\n",
            "Dep. Variable:                      y   R-squared (uncentered):                   0.972\n",
            "Model:                            OLS   Adj. R-squared (uncentered):              0.972\n",
            "Method:                 Least Squares   F-statistic:                          3.391e+04\n",
            "Date:                Thu, 24 Mar 2022   Prob (F-statistic):                        0.00\n",
            "Time:                        11:42:13   Log-Likelihood:                         -32860.\n",
            "No. Observations:                5891   AIC:                                  6.573e+04\n",
            "Df Residuals:                    5885   BIC:                                  6.577e+04\n",
            "Df Model:                           6                                                  \n",
            "Covariance Type:            nonrobust                                                  \n",
            "==============================================================================\n",
            "                 coef    std err          t      P>|t|      [0.025      0.975]\n",
            "------------------------------------------------------------------------------\n",
            "RERA          47.4889      1.840     25.805      0.000      43.881      51.097\n",
            "BHK_NO.      102.0311      0.975    104.601      0.000     100.119     103.943\n",
            "SQUARE_FT      0.0001   3.42e-07    377.255      0.000       0.000       0.000\n",
            "RESALE      -435.0265      3.114   -139.707      0.000    -441.131    -428.922\n",
            "LONGITUDE      0.6979      0.128      5.453      0.000       0.447       0.949\n",
            "LATITUDE       3.4646      0.049     70.849      0.000       3.369       3.560\n",
            "==============================================================================\n",
            "Omnibus:                     5643.546   Durbin-Watson:                   1.961\n",
            "Prob(Omnibus):                  0.000   Jarque-Bera (JB):           819274.528\n",
            "Skew:                           4.199   Prob(JB):                         0.00\n",
            "Kurtosis:                      60.160   Cond. No.                     9.23e+06\n",
            "==============================================================================\n",
            "\n",
            "Warnings:\n",
            "[1] Standard Errors assume that the covariance matrix of the errors is correctly specified.\n",
            "[2] The condition number is large, 9.23e+06. This might indicate that there are\n",
            "strong multicollinearity or other numerical problems.\n"
          ]
        }
      ]
    },
    {
      "cell_type": "markdown",
      "source": [
        "now we implement polynomial regression of degree 2"
      ],
      "metadata": {
        "id": "MtXfMYl0w6_5"
      }
    },
    {
      "cell_type": "code",
      "source": [
        "from sklearn.preprocessing import PolynomialFeatures\n",
        "from sklearn.metrics import mean_squared_error, r2_score\n",
        "\n",
        "def create_polynomial_regression_model(degree):\n",
        "  \"Creates a polynomial regression model for the given degree\"\n",
        "  \n",
        "  poly_features = PolynomialFeatures(degree=degree)\n",
        "  \n",
        "  # transforms the existing features to higher degree features.\n",
        "  X_train_poly = poly_features.fit_transform(X_train)\n",
        "  \n",
        "  # fit the transformed features to Linear Regression\n",
        "  poly_model = LinearRegression()\n",
        "  poly_model.fit(X_train_poly, y_train)\n",
        "  \n",
        "  # predicting on training data-set\n",
        "  y_train_predicted = poly_model.predict(X_train_poly)\n",
        "  \n",
        "  # predicting on test data-set\n",
        "  y_test_predict = poly_model.predict(poly_features.fit_transform(X_test))\n",
        "  \n",
        "  # evaluating the model on training dataset\n",
        "  rmse_train = np.sqrt(mean_squared_error(y_train, y_train_predicted))\n",
        "  r2_train = r2_score(y_train, y_train_predicted)\n",
        "  \n",
        "  # evaluating the model on test dataset\n",
        "  rmse_test = np.sqrt(mean_squared_error(y_test, y_test_predict))\n",
        "  r2_test = r2_score(y_test, y_test_predict)\n",
        "  \n",
        "  print(\"The model performance for the training set\")\n",
        "  print(\"-------------------------------------------\")\n",
        "  print(\"RMSE of training set is {}\".format(rmse_train))\n",
        "  print(\"R2 score of training set is {}\".format(r2_train))\n",
        "  \n",
        "  print(\"\\n\")\n",
        "  \n",
        "  print(\"The model performance for the test set\")\n",
        "  print(\"-------------------------------------------\")\n",
        "  print(\"RMSE of test set is {}\".format(rmse_test))\n",
        "  print(\"R2 score of test set is {}\".format(r2_test))"
      ],
      "metadata": {
        "id": "SRtiaCMauno8"
      },
      "execution_count": 39,
      "outputs": []
    },
    {
      "cell_type": "code",
      "source": [
        "create_polynomial_regression_model(2)"
      ],
      "metadata": {
        "colab": {
          "base_uri": "https://localhost:8080/"
        },
        "id": "x6jL1nJwu6Y3",
        "outputId": "113dd6ba-ec00-4dd3-f808-7c06f15edfa2"
      },
      "execution_count": 40,
      "outputs": [
        {
          "output_type": "stream",
          "name": "stdout",
          "text": [
            "The model performance for the training set\n",
            "-------------------------------------------\n",
            "RMSE of training set is 289.50286892211386\n",
            "R2 score of training set is 0.8025994450861911\n",
            "\n",
            "\n",
            "The model performance for the test set\n",
            "-------------------------------------------\n",
            "RMSE of test set is 1287.3761474990235\n",
            "R2 score of test set is -2.6105056574564935\n"
          ]
        }
      ]
    },
    {
      "cell_type": "markdown",
      "source": [
        "Now for all the models I have fitted till now, we\n",
        "make a bar plot of RMSE, and see for which model\n",
        "it is minimum."
      ],
      "metadata": {
        "id": "bwgfyogdxEN1"
      }
    },
    {
      "cell_type": "code",
      "source": [
        "from sklearn.neighbors import KNeighborsRegressor\n",
        "rmse_test_knn=[]\n",
        "k_values=[3,4,5,6,7,8,9,10,20,25,50,100]\n",
        "for i in k_values: \n",
        "  knnr = KNeighborsRegressor(n_neighbors=i)\n",
        "  knnr.fit(X_train, y_train)\n",
        "  y_pred_knn=knnr.predict(X_test)\n",
        "  rmse_test_knn.append(np.sqrt(mean_squared_error(y_test, y_pred_knn)))\n",
        "\n",
        "plt.figure(figsize=(10,6))\n",
        "plt.plot(k_values,rmse_test_knn,color='blue', linestyle='dashed',marker='o',markerfacecolor='red', markersize=10)\n",
        "plt.title('RMSE vs. K Value')\n",
        "plt.xlabel('K')\n",
        "plt.ylabel('RMSE')\n",
        "print(\"lowest RMSE:-\",min(rmse_test_knn),\"at k value =\",k_values[rmse_test_knn.index(min(rmse_test_knn))])\n",
        "plt.show()\n",
        "print(rmse_test_knn)"
      ],
      "metadata": {
        "id": "SnMdnRptvNDp",
        "colab": {
          "base_uri": "https://localhost:8080/",
          "height": 461
        },
        "outputId": "57b38a1b-5ab9-4a65-e785-9413edb9c790"
      },
      "execution_count": 44,
      "outputs": [
        {
          "output_type": "stream",
          "name": "stdout",
          "text": [
            "lowest RMSE:- 305.55928524758144 at k value = 3\n"
          ]
        },
        {
          "output_type": "display_data",
          "data": {
            "text/plain": [
              "<Figure size 720x432 with 1 Axes>"
            ],
            "image/png": "[encoded data removed]"
          },
          "metadata": {
            "needs_background": "light"
          }
        },
        {
          "output_type": "stream",
          "name": "stdout",
          "text": [
            "[305.55928524758144, 343.8026914325452, 368.75108686594285, 386.5400895079243, 387.5986719637908, 387.3124743184173, 386.2180375424308, 386.2082409044417, 402.7835203812494, 403.7777099956244, 398.3444047668024, 408.44470051028213]\n"
          ]
        }
      ]
    }
  ],
  "metadata": {
    "colab": {
      "name": "final",
      "provenance": []
    },
    "kernelspec": {
      "display_name": "Python 3",
      "name": "python3"
    },
    "language_info": {
      "name": "python"
    }
  },
  "nbformat": 4,
  "nbformat_minor": 0
}
